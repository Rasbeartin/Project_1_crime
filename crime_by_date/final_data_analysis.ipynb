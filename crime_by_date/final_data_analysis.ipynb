{
 "cells": [
  {
   "cell_type": "markdown",
   "metadata": {},
   "source": [
    "### Import Dependencies"
   ]
  },
  {
   "cell_type": "code",
   "execution_count": 1,
   "metadata": {},
   "outputs": [],
   "source": [
    "import pandas as pd\n",
    "import datetime\n",
    "from matplotlib import pyplot as plt\n",
    "from scipy import stats\n",
    "import numpy as np\n"
   ]
  },
  {
   "cell_type": "markdown",
   "metadata": {},
   "source": [
    "### Read in the csv file grouped by date with a count of crime type for each city"
   ]
  },
  {
   "cell_type": "code",
   "execution_count": 34,
   "metadata": {},
   "outputs": [],
   "source": [
    "austin_df = pd.read_csv('Austin/austin_by_date.csv', low_memory=False, encoding='UTF-8')\n",
    "la_df = pd.read_csv('Los_Angles_city/LA_by_date.csv',low_memory=False, encoding='UTF-8')\n",
    "nyc_df = pd.read_csv('New_York_city/NYC_by_date.csv',low_memory=False, encoding='UTF-8')\n",
    "chicago_df = pd.read_csv('Chicago_City/chicago_date_group.csv',low_memory=False, encoding='UTF-8')\n",
    "pheonix_df = pd.read_csv('Pheonix_City/pheonix_crimes_by_date.csv',low_memory=False, encoding='UTF-8')\n",
    "portland_df = pd.read_csv('Portland_City/portland_date_group.csv',low_memory=False, encoding='UTF-8')\n",
    "orlando_df = pd.read_csv('Orlando city/orlando_by_date.csv',low_memory=False, encoding='UTF-8')\n",
    "philadelphia_df = pd.read_csv('Philly/philly_by_date.csv',low_memory=False, encoding='UTF-8') \n",
    "seattle_df = pd.read_csv('Seattle_city/seattle_by_date.csv',low_memory=False, encoding='UTF-8')\n",
    "\n",
    "\n",
    "city_dfs = [austin_df, \n",
    "            la_df, \n",
    "            nyc_df, \n",
    "            chicago_df, \n",
    "            pheonix_df,\n",
    "            portland_df, \n",
    "            orlando_df,\n",
    "            philadelphia_df, \n",
    "            seattle_df] \n"
   ]
  },
  {
   "cell_type": "code",
   "execution_count": 35,
   "metadata": {},
   "outputs": [
    {
     "name": "stdout",
     "output_type": "stream",
     "text": [
      "2015-01-01 00:00:00\n",
      "to\n",
      "2018-10-20 00:00:00\n",
      "----\n",
      "2015-01-02 00:00:00\n",
      "to\n",
      "2018-02-24 00:00:00\n",
      "----\n",
      "2015-01-01 00:00:00\n",
      "to\n",
      "2018-06-30 00:00:00\n",
      "----\n",
      "2016-01-01 00:00:00\n",
      "to\n",
      "2018-10-17 00:00:00\n",
      "----\n",
      "2015-11-01 00:00:00\n",
      "to\n",
      "2018-10-17 00:00:00\n",
      "----\n",
      "2015-01-01 00:00:00\n",
      "to\n",
      "2018-09-30 00:00:00\n",
      "----\n",
      "2015-01-01 00:00:00\n",
      "to\n",
      "2017-12-31 00:00:00\n",
      "----\n",
      "2006-01-01 00:00:00\n",
      "to\n",
      "2017-03-23 00:00:00\n",
      "----\n",
      "2015-01-01 00:00:00\n",
      "to\n",
      "2018-10-25 00:00:00\n",
      "----\n"
     ]
    }
   ],
   "source": [
    "def convert_to_timestamp(s):\n",
    "     return datetime.datetime.strptime(s, \"%m/%d/%Y\")\n",
    "\n",
    "for df in city_dfs:\n",
    "    df['timestamp'] = df['date'].apply(convert_to_timestamp)\n",
    "    print(min(df['timestamp']))\n",
    "    print(\"to\")\n",
    "    print(max(df['timestamp']))\n",
    "    print(\"----\")"
   ]
  },
  {
   "cell_type": "markdown",
   "metadata": {},
   "source": [
    "### Summary of Questions for analysis:\n",
    "1.        Is there an increase in crime during major shopping holidays? \n",
    "2.        Which Crimes are most prevalent during major shopping holidays? \n",
    "3.        Are there specific cities more prone to an increase in crime during major shopping holidays?\n",
    "4.        Do cities with the least amount of crime experience an increase in crime that is more than noticeable during major shopping holidays? \n",
    "5.        *insert new question*. "
   ]
  },
  {
   "cell_type": "code",
   "execution_count": null,
   "metadata": {},
   "outputs": [],
   "source": []
  },
  {
   "cell_type": "markdown",
   "metadata": {},
   "source": [
    "Great sample resource:\n",
    "\n",
    "* UCFLM201809DATA2/05-Matplotlib/3/Activities/10-Stu_Fits_and_Regression/Solved/crime.ipynb \n",
    "* https://github.com/UCF-Coding-Boot-Camp/UCFLM201809DATA2/blob/master/05-Matplotlib/3/Activities/10-Stu_Fits_and_Regression/Solved/crime.ipynb"
   ]
  },
  {
   "cell_type": "markdown",
   "metadata": {},
   "source": [
    "###  Is there an increase in crime during major shopping holidays? "
   ]
  },
  {
   "cell_type": "markdown",
   "metadata": {},
   "source": [
    "### Definition of shopping holidays:"
   ]
  },
  {
   "cell_type": "code",
   "execution_count": 3,
   "metadata": {},
   "outputs": [
    {
     "data": {
      "text/html": [
       "<div>\n",
       "<style scoped>\n",
       "    .dataframe tbody tr th:only-of-type {\n",
       "        vertical-align: middle;\n",
       "    }\n",
       "\n",
       "    .dataframe tbody tr th {\n",
       "        vertical-align: top;\n",
       "    }\n",
       "\n",
       "    .dataframe thead th {\n",
       "        text-align: right;\n",
       "    }\n",
       "</style>\n",
       "<table border=\"1\" class=\"dataframe\">\n",
       "  <thead>\n",
       "    <tr style=\"text-align: right;\">\n",
       "      <th></th>\n",
       "      <th>Retail Holidays</th>\n",
       "      <th>2015 Year</th>\n",
       "      <th>2016 Year</th>\n",
       "      <th>2017 Year</th>\n",
       "      <th>2018 Year</th>\n",
       "    </tr>\n",
       "  </thead>\n",
       "  <tbody>\n",
       "    <tr>\n",
       "      <th>0</th>\n",
       "      <td>New Years Day</td>\n",
       "      <td>1/1/2015</td>\n",
       "      <td>1/1/2016</td>\n",
       "      <td>1/1/2017</td>\n",
       "      <td>1/1/2018</td>\n",
       "    </tr>\n",
       "    <tr>\n",
       "      <th>1</th>\n",
       "      <td>Martin Luther King Day</td>\n",
       "      <td>1/19/2015</td>\n",
       "      <td>1/18/2016</td>\n",
       "      <td>1/16/2017</td>\n",
       "      <td>1/15/2018</td>\n",
       "    </tr>\n",
       "    <tr>\n",
       "      <th>2</th>\n",
       "      <td>Super Bowl</td>\n",
       "      <td>2/1/2015</td>\n",
       "      <td>2/7/2016</td>\n",
       "      <td>2/5/2017</td>\n",
       "      <td>2/4/2018</td>\n",
       "    </tr>\n",
       "    <tr>\n",
       "      <th>3</th>\n",
       "      <td>Valentine's Day</td>\n",
       "      <td>2/14/2015</td>\n",
       "      <td>2/14/2016</td>\n",
       "      <td>2/14/2017</td>\n",
       "      <td>2/14/2018</td>\n",
       "    </tr>\n",
       "    <tr>\n",
       "      <th>4</th>\n",
       "      <td>Easter</td>\n",
       "      <td>4/5/2015</td>\n",
       "      <td>3/27/2016</td>\n",
       "      <td>4/16/2017</td>\n",
       "      <td>4/1/2018</td>\n",
       "    </tr>\n",
       "    <tr>\n",
       "      <th>5</th>\n",
       "      <td>Earth Day</td>\n",
       "      <td>4/22/2015</td>\n",
       "      <td>4/22/2016</td>\n",
       "      <td>4/22/2017</td>\n",
       "      <td>4/22/2018</td>\n",
       "    </tr>\n",
       "    <tr>\n",
       "      <th>6</th>\n",
       "      <td>Mother's Day</td>\n",
       "      <td>5/10/2015</td>\n",
       "      <td>5/8/2016</td>\n",
       "      <td>5/14/2017</td>\n",
       "      <td>5/13/2018</td>\n",
       "    </tr>\n",
       "    <tr>\n",
       "      <th>7</th>\n",
       "      <td>Memorial Day</td>\n",
       "      <td>5/25/2015</td>\n",
       "      <td>5/30/2016</td>\n",
       "      <td>5/29/2017</td>\n",
       "      <td>5/28/2018</td>\n",
       "    </tr>\n",
       "    <tr>\n",
       "      <th>8</th>\n",
       "      <td>Father's Day</td>\n",
       "      <td>6/21/2015</td>\n",
       "      <td>6/19/2016</td>\n",
       "      <td>6/18/2017</td>\n",
       "      <td>6/17/2018</td>\n",
       "    </tr>\n",
       "    <tr>\n",
       "      <th>9</th>\n",
       "      <td>Independence Day</td>\n",
       "      <td>7/4/2015</td>\n",
       "      <td>7/4/2016</td>\n",
       "      <td>7/4/2017</td>\n",
       "      <td>7/4/2018</td>\n",
       "    </tr>\n",
       "    <tr>\n",
       "      <th>10</th>\n",
       "      <td>Labor Day</td>\n",
       "      <td>9/7/2015</td>\n",
       "      <td>9/5/2016</td>\n",
       "      <td>9/4/2017</td>\n",
       "      <td>9/3/2018</td>\n",
       "    </tr>\n",
       "    <tr>\n",
       "      <th>11</th>\n",
       "      <td>Halloween</td>\n",
       "      <td>10/31/2015</td>\n",
       "      <td>10/31/2016</td>\n",
       "      <td>10/31/2017</td>\n",
       "      <td>10/31/2018</td>\n",
       "    </tr>\n",
       "    <tr>\n",
       "      <th>12</th>\n",
       "      <td>Veteran's Day</td>\n",
       "      <td>11/11/2015</td>\n",
       "      <td>11/11/2016</td>\n",
       "      <td>11/11/2017</td>\n",
       "      <td>11/11/2018</td>\n",
       "    </tr>\n",
       "    <tr>\n",
       "      <th>13</th>\n",
       "      <td>Thanksgiving</td>\n",
       "      <td>11/26/2015</td>\n",
       "      <td>11/24/2016</td>\n",
       "      <td>11/23/2017</td>\n",
       "      <td>11/22/2018</td>\n",
       "    </tr>\n",
       "    <tr>\n",
       "      <th>14</th>\n",
       "      <td>Black Friday</td>\n",
       "      <td>11/27/2015</td>\n",
       "      <td>11/25/2018</td>\n",
       "      <td>11/24/2017</td>\n",
       "      <td>11/23/2018</td>\n",
       "    </tr>\n",
       "    <tr>\n",
       "      <th>15</th>\n",
       "      <td>Cyber Monday</td>\n",
       "      <td>11/30/2015</td>\n",
       "      <td>11/28/2016</td>\n",
       "      <td>11/27/2017</td>\n",
       "      <td>11/26/2018</td>\n",
       "    </tr>\n",
       "    <tr>\n",
       "      <th>16</th>\n",
       "      <td>Hanukkah</td>\n",
       "      <td>12/5/2015</td>\n",
       "      <td>12/23/2016</td>\n",
       "      <td>12/11/2017</td>\n",
       "      <td>12/1/2018</td>\n",
       "    </tr>\n",
       "    <tr>\n",
       "      <th>17</th>\n",
       "      <td>Christmas</td>\n",
       "      <td>12/25/2015</td>\n",
       "      <td>12/25/2016</td>\n",
       "      <td>12/25/2017</td>\n",
       "      <td>12/25/2018</td>\n",
       "    </tr>\n",
       "    <tr>\n",
       "      <th>18</th>\n",
       "      <td>New Year's Eve</td>\n",
       "      <td>12/31/2015</td>\n",
       "      <td>12/31/2016</td>\n",
       "      <td>12/31/2017</td>\n",
       "      <td>12/31/2018</td>\n",
       "    </tr>\n",
       "  </tbody>\n",
       "</table>\n",
       "</div>"
      ],
      "text/plain": [
       "           Retail Holidays   2015 Year   2016 Year   2017 Year   2018 Year\n",
       "0            New Years Day    1/1/2015    1/1/2016    1/1/2017    1/1/2018\n",
       "1   Martin Luther King Day   1/19/2015   1/18/2016   1/16/2017   1/15/2018\n",
       "2               Super Bowl    2/1/2015    2/7/2016    2/5/2017    2/4/2018\n",
       "3          Valentine's Day   2/14/2015   2/14/2016   2/14/2017   2/14/2018\n",
       "4                   Easter    4/5/2015   3/27/2016   4/16/2017    4/1/2018\n",
       "5                Earth Day   4/22/2015   4/22/2016   4/22/2017   4/22/2018\n",
       "6             Mother's Day   5/10/2015    5/8/2016   5/14/2017   5/13/2018\n",
       "7             Memorial Day   5/25/2015   5/30/2016   5/29/2017   5/28/2018\n",
       "8             Father's Day   6/21/2015   6/19/2016   6/18/2017   6/17/2018\n",
       "9         Independence Day    7/4/2015    7/4/2016    7/4/2017    7/4/2018\n",
       "10               Labor Day    9/7/2015    9/5/2016    9/4/2017    9/3/2018\n",
       "11               Halloween  10/31/2015  10/31/2016  10/31/2017  10/31/2018\n",
       "12           Veteran's Day  11/11/2015  11/11/2016  11/11/2017  11/11/2018\n",
       "13            Thanksgiving  11/26/2015  11/24/2016  11/23/2017  11/22/2018\n",
       "14            Black Friday  11/27/2015  11/25/2018  11/24/2017  11/23/2018\n",
       "15            Cyber Monday  11/30/2015  11/28/2016  11/27/2017  11/26/2018\n",
       "16                Hanukkah   12/5/2015  12/23/2016  12/11/2017   12/1/2018\n",
       "17               Christmas  12/25/2015  12/25/2016  12/25/2017  12/25/2018\n",
       "18          New Year's Eve  12/31/2015  12/31/2016  12/31/2017  12/31/2018"
      ]
     },
     "execution_count": 3,
     "metadata": {},
     "output_type": "execute_result"
    }
   ],
   "source": [
    "holiday_df = pd.read_csv(\"retail_holidays.csv\")\n",
    "\n",
    "holiday_df"
   ]
  },
  {
   "cell_type": "code",
   "execution_count": 4,
   "metadata": {},
   "outputs": [],
   "source": [
    "# chart 1 \n",
    "\n",
    "#save chart ('../Images/chart.png')"
   ]
  },
  {
   "cell_type": "code",
   "execution_count": 5,
   "metadata": {},
   "outputs": [],
   "source": [
    "# chart 2\n",
    "\n",
    "#save chart ('../Images/chart.png')"
   ]
  },
  {
   "cell_type": "markdown",
   "metadata": {},
   "source": [
    "### Which Crimes are most prevalent during major holidays? "
   ]
  },
  {
   "cell_type": "code",
   "execution_count": 6,
   "metadata": {},
   "outputs": [],
   "source": [
    "# chart 1\n",
    "\n",
    "#save chart ('../Images/chart.png')"
   ]
  },
  {
   "cell_type": "code",
   "execution_count": 7,
   "metadata": {},
   "outputs": [],
   "source": [
    "# chart 2\n",
    "\n",
    "#save chart ('../Images/chart.png')"
   ]
  },
  {
   "cell_type": "markdown",
   "metadata": {},
   "source": [
    "### Are there specific cities more prone to an increase in crime during major holidays?"
   ]
  },
  {
   "cell_type": "code",
   "execution_count": 8,
   "metadata": {},
   "outputs": [],
   "source": [
    "# chart 1\n",
    "\n",
    "#save chart ('../Images/chart.png')"
   ]
  },
  {
   "cell_type": "code",
   "execution_count": 9,
   "metadata": {},
   "outputs": [],
   "source": [
    "# chart 2\n",
    "\n",
    "#save chart ('../Images/chart.png')"
   ]
  },
  {
   "cell_type": "markdown",
   "metadata": {},
   "source": [
    "### Do cities with the least amount of crime experience an increase in crime that is more than noticeable during major holidays? "
   ]
  },
  {
   "cell_type": "code",
   "execution_count": 10,
   "metadata": {},
   "outputs": [],
   "source": [
    "# chart 1\n",
    "\n",
    "#save chart ('../Images/chart.png')"
   ]
  },
  {
   "cell_type": "code",
   "execution_count": 11,
   "metadata": {},
   "outputs": [],
   "source": [
    "# chart 2\n",
    "\n",
    "#save chart ('../Images/chart.png')"
   ]
  },
  {
   "cell_type": "markdown",
   "metadata": {},
   "source": [
    "### Question 5 if needed"
   ]
  },
  {
   "cell_type": "code",
   "execution_count": 12,
   "metadata": {},
   "outputs": [],
   "source": [
    "# chart 1\n",
    "\n",
    "#save chart ('../Images/chart.png')"
   ]
  },
  {
   "cell_type": "code",
   "execution_count": 13,
   "metadata": {},
   "outputs": [],
   "source": [
    "# chart 2\n",
    "\n",
    "#save chart ('../Images/chart.png')"
   ]
  },
  {
   "cell_type": "markdown",
   "metadata": {},
   "source": [
    "### Conclusion\n",
    "* Based on the data in this study, crime does/does not seem to increase during major shopping holidays\n",
    "* Based on the data in this study, crime1,crime2, crime3, seem to be more prevelant during major shopping holidays\n",
    "* Based on the data in this study, cityn, citym, cityk, seem to be more prone to an increase in crime during major shopping holidays\n",
    "* Based on the data in the study, cities with the least amount of crime do/do not seem to experience an increase in crime that's more noticeable during major shopping holidays"
   ]
  },
  {
   "cell_type": "markdown",
   "metadata": {},
   "source": [
    "### A step further\n",
    "* limitations of the study: time constraints, lack of crime expertise, reliability of data\n",
    "* biases of the study\n",
    "* improvements: how study can be improved\n",
    "* Major takeways"
   ]
  },
  {
   "cell_type": "code",
   "execution_count": null,
   "metadata": {},
   "outputs": [],
   "source": []
  }
 ],
 "metadata": {
  "kernelspec": {
   "display_name": "Python 3",
   "language": "python",
   "name": "python3"
  },
  "language_info": {
   "codemirror_mode": {
    "name": "ipython",
    "version": 3
   },
   "file_extension": ".py",
   "mimetype": "text/x-python",
   "name": "python",
   "nbconvert_exporter": "python",
   "pygments_lexer": "ipython3",
   "version": "3.6.6"
  }
 },
 "nbformat": 4,
 "nbformat_minor": 2
}
