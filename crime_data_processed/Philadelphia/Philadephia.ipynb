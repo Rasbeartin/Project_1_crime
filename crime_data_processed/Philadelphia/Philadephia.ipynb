{
 "cells": [
  {
   "cell_type": "code",
   "execution_count": 1,
   "metadata": {},
   "outputs": [],
   "source": [
    "import pandas as pd"
   ]
  },
  {
   "cell_type": "code",
   "execution_count": 2,
   "metadata": {},
   "outputs": [
    {
     "data": {
      "text/html": [
       "<div>\n",
       "<style scoped>\n",
       "    .dataframe tbody tr th:only-of-type {\n",
       "        vertical-align: middle;\n",
       "    }\n",
       "\n",
       "    .dataframe tbody tr th {\n",
       "        vertical-align: top;\n",
       "    }\n",
       "\n",
       "    .dataframe thead th {\n",
       "        text-align: right;\n",
       "    }\n",
       "</style>\n",
       "<table border=\"1\" class=\"dataframe\">\n",
       "  <thead>\n",
       "    <tr style=\"text-align: right;\">\n",
       "      <th></th>\n",
       "      <th>Dc_Dist</th>\n",
       "      <th>Psa</th>\n",
       "      <th>Dispatch_Date_Time</th>\n",
       "      <th>Dispatch_Date</th>\n",
       "      <th>Dispatch_Time</th>\n",
       "      <th>Hour</th>\n",
       "      <th>Dc_Key</th>\n",
       "      <th>Location_Block</th>\n",
       "      <th>UCR_General</th>\n",
       "      <th>Text_General_Code</th>\n",
       "      <th>Police_Districts</th>\n",
       "      <th>Month</th>\n",
       "      <th>Lon</th>\n",
       "      <th>Lat</th>\n",
       "    </tr>\n",
       "  </thead>\n",
       "  <tbody>\n",
       "    <tr>\n",
       "      <th>0</th>\n",
       "      <td>18</td>\n",
       "      <td>3</td>\n",
       "      <td>2009-10-02 14:24:00</td>\n",
       "      <td>2009-10-02</td>\n",
       "      <td>14:24:00</td>\n",
       "      <td>14</td>\n",
       "      <td>200918067518</td>\n",
       "      <td>S 38TH ST  / MARKETUT ST</td>\n",
       "      <td>800.0</td>\n",
       "      <td>Other Assaults</td>\n",
       "      <td>NaN</td>\n",
       "      <td>2009-10</td>\n",
       "      <td>NaN</td>\n",
       "      <td>NaN</td>\n",
       "    </tr>\n",
       "    <tr>\n",
       "      <th>1</th>\n",
       "      <td>14</td>\n",
       "      <td>1</td>\n",
       "      <td>2009-05-10 00:55:00</td>\n",
       "      <td>2009-05-10</td>\n",
       "      <td>00:55:00</td>\n",
       "      <td>0</td>\n",
       "      <td>200914033994</td>\n",
       "      <td>8500 BLOCK MITCH</td>\n",
       "      <td>2600.0</td>\n",
       "      <td>All Other Offenses</td>\n",
       "      <td>NaN</td>\n",
       "      <td>2009-05</td>\n",
       "      <td>NaN</td>\n",
       "      <td>NaN</td>\n",
       "    </tr>\n",
       "    <tr>\n",
       "      <th>2</th>\n",
       "      <td>25</td>\n",
       "      <td>J</td>\n",
       "      <td>2009-08-07 15:40:00</td>\n",
       "      <td>2009-08-07</td>\n",
       "      <td>15:40:00</td>\n",
       "      <td>15</td>\n",
       "      <td>200925083199</td>\n",
       "      <td>6TH CAMBRIA</td>\n",
       "      <td>800.0</td>\n",
       "      <td>Other Assaults</td>\n",
       "      <td>NaN</td>\n",
       "      <td>2009-08</td>\n",
       "      <td>NaN</td>\n",
       "      <td>NaN</td>\n",
       "    </tr>\n",
       "    <tr>\n",
       "      <th>3</th>\n",
       "      <td>35</td>\n",
       "      <td>D</td>\n",
       "      <td>2009-07-19 01:09:00</td>\n",
       "      <td>2009-07-19</td>\n",
       "      <td>01:09:00</td>\n",
       "      <td>1</td>\n",
       "      <td>200935061008</td>\n",
       "      <td>5500 BLOCK N 5TH ST</td>\n",
       "      <td>1500.0</td>\n",
       "      <td>Weapon Violations</td>\n",
       "      <td>20.0</td>\n",
       "      <td>2009-07</td>\n",
       "      <td>-75.130477</td>\n",
       "      <td>40.036389</td>\n",
       "    </tr>\n",
       "    <tr>\n",
       "      <th>4</th>\n",
       "      <td>9</td>\n",
       "      <td>R</td>\n",
       "      <td>2009-06-25 00:14:00</td>\n",
       "      <td>2009-06-25</td>\n",
       "      <td>00:14:00</td>\n",
       "      <td>0</td>\n",
       "      <td>200909030511</td>\n",
       "      <td>1800 BLOCK WYLIE ST</td>\n",
       "      <td>2600.0</td>\n",
       "      <td>All Other Offenses</td>\n",
       "      <td>8.0</td>\n",
       "      <td>2009-06</td>\n",
       "      <td>-75.166350</td>\n",
       "      <td>39.969532</td>\n",
       "    </tr>\n",
       "  </tbody>\n",
       "</table>\n",
       "</div>"
      ],
      "text/plain": [
       "   Dc_Dist Psa   Dispatch_Date_Time Dispatch_Date Dispatch_Time  Hour  \\\n",
       "0       18   3  2009-10-02 14:24:00    2009-10-02      14:24:00    14   \n",
       "1       14   1  2009-05-10 00:55:00    2009-05-10      00:55:00     0   \n",
       "2       25   J  2009-08-07 15:40:00    2009-08-07      15:40:00    15   \n",
       "3       35   D  2009-07-19 01:09:00    2009-07-19      01:09:00     1   \n",
       "4        9   R  2009-06-25 00:14:00    2009-06-25      00:14:00     0   \n",
       "\n",
       "         Dc_Key            Location_Block  UCR_General   Text_General_Code  \\\n",
       "0  200918067518  S 38TH ST  / MARKETUT ST        800.0      Other Assaults   \n",
       "1  200914033994          8500 BLOCK MITCH       2600.0  All Other Offenses   \n",
       "2  200925083199               6TH CAMBRIA        800.0      Other Assaults   \n",
       "3  200935061008       5500 BLOCK N 5TH ST       1500.0   Weapon Violations   \n",
       "4  200909030511       1800 BLOCK WYLIE ST       2600.0  All Other Offenses   \n",
       "\n",
       "   Police_Districts    Month        Lon        Lat  \n",
       "0               NaN  2009-10        NaN        NaN  \n",
       "1               NaN  2009-05        NaN        NaN  \n",
       "2               NaN  2009-08        NaN        NaN  \n",
       "3              20.0  2009-07 -75.130477  40.036389  \n",
       "4               8.0  2009-06 -75.166350  39.969532  "
      ]
     },
     "execution_count": 2,
     "metadata": {},
     "output_type": "execute_result"
    }
   ],
   "source": [
    "philly_df = pd.read_csv('../../crime_data_raw/Philadelphia/crime_data_philadelphia.csv.gz')\n",
    "\n",
    "philly_df.head()"
   ]
  },
  {
   "cell_type": "code",
   "execution_count": 3,
   "metadata": {},
   "outputs": [
    {
     "data": {
      "text/plain": [
       "2237605"
      ]
     },
     "execution_count": 3,
     "metadata": {},
     "output_type": "execute_result"
    }
   ],
   "source": [
    "len(philly_df)"
   ]
  },
  {
   "cell_type": "code",
   "execution_count": 4,
   "metadata": {},
   "outputs": [
    {
     "data": {
      "text/plain": [
       "'2006-01-01'"
      ]
     },
     "execution_count": 4,
     "metadata": {},
     "output_type": "execute_result"
    }
   ],
   "source": [
    "philly_df['Dispatch_Date'].min()"
   ]
  },
  {
   "cell_type": "code",
   "execution_count": 5,
   "metadata": {},
   "outputs": [
    {
     "data": {
      "text/plain": [
       "'2017-03-23'"
      ]
     },
     "execution_count": 5,
     "metadata": {},
     "output_type": "execute_result"
    }
   ],
   "source": [
    "philly_df['Dispatch_Date'].max()"
   ]
  },
  {
   "cell_type": "code",
   "execution_count": 6,
   "metadata": {},
   "outputs": [
    {
     "data": {
      "text/plain": [
       "array(['Other Assaults', 'All Other Offenses', 'Weapon Violations',\n",
       "       'Thefts', 'Burglary Non-Residential', 'Aggravated Assault Firearm',\n",
       "       'Theft from Vehicle', 'Disorderly Conduct',\n",
       "       'Vandalism/Criminal Mischief', 'Arson', 'Fraud',\n",
       "       'Robbery No Firearm', 'Vagrancy/Loitering', 'Motor Vehicle Theft',\n",
       "       'Recovered Stolen Motor Vehicle', 'Robbery Firearm',\n",
       "       'Embezzlement', 'Rape', 'DRIVING UNDER THE INFLUENCE',\n",
       "       'Forgery and Counterfeiting', 'Narcotic / Drug Law Violations',\n",
       "       'Burglary Residential', 'Other Sex Offenses (Not Commercialized)',\n",
       "       'Liquor Law Violations', 'Aggravated Assault No Firearm',\n",
       "       'Homicide - Criminal', 'Gambling Violations',\n",
       "       'Prostitution and Commercialized Vice', 'Public Drunkenness',\n",
       "       'Receiving Stolen Property', 'Homicide - Gross Negligence',\n",
       "       'Offenses Against Family and Children', 'Homicide - Justifiable',\n",
       "       nan], dtype=object)"
      ]
     },
     "execution_count": 6,
     "metadata": {},
     "output_type": "execute_result"
    }
   ],
   "source": [
    "philly_df['Text_General_Code'].unique()"
   ]
  },
  {
   "cell_type": "code",
   "execution_count": null,
   "metadata": {},
   "outputs": [],
   "source": []
  }
 ],
 "metadata": {
  "kernelspec": {
   "display_name": "Python 3",
   "language": "python",
   "name": "python3"
  },
  "language_info": {
   "codemirror_mode": {
    "name": "ipython",
    "version": 3
   },
   "file_extension": ".py",
   "mimetype": "text/x-python",
   "name": "python",
   "nbconvert_exporter": "python",
   "pygments_lexer": "ipython3",
   "version": "3.6.6"
  }
 },
 "nbformat": 4,
 "nbformat_minor": 2
}
