{
 "cells": [
  {
   "cell_type": "markdown",
   "metadata": {},
   "source": [
    "## Seattle Crime Data\n",
    "* Read the crime data for Seattle from https://data.seattle.gov/Public-Safety/Crime-Data/4fs7-3vj5/data\n",
    "* Take the data from year 2015-present\n",
    "* Formatted the data with Type of crime, Date Occurred and crime count\n",
    "* Store the formatted data in csv file"
   ]
  },
  {
   "cell_type": "code",
   "execution_count": 1,
   "metadata": {},
   "outputs": [],
   "source": [
    "# Dependencies and Setup\n",
    "import pandas as pd\n",
    "import numpy as np"
   ]
  },
  {
   "cell_type": "code",
   "execution_count": 2,
   "metadata": {},
   "outputs": [],
   "source": [
    "# File to Load\n",
    "csv_path = \"../Data_folder/Crime_Data_seattle_2015.csv\"\n",
    "data_file = pd.read_csv(csv_path)"
   ]
  },
  {
   "cell_type": "code",
   "execution_count": 3,
   "metadata": {
    "scrolled": true
   },
   "outputs": [
    {
     "data": {
      "text/html": [
       "<div>\n",
       "<style scoped>\n",
       "    .dataframe tbody tr th:only-of-type {\n",
       "        vertical-align: middle;\n",
       "    }\n",
       "\n",
       "    .dataframe tbody tr th {\n",
       "        vertical-align: top;\n",
       "    }\n",
       "\n",
       "    .dataframe thead th {\n",
       "        text-align: right;\n",
       "    }\n",
       "</style>\n",
       "<table border=\"1\" class=\"dataframe\">\n",
       "  <thead>\n",
       "    <tr style=\"text-align: right;\">\n",
       "      <th></th>\n",
       "      <th>Report Number</th>\n",
       "      <th>Occurred Date</th>\n",
       "      <th>Occurred Time</th>\n",
       "      <th>Reported Date</th>\n",
       "      <th>Reported Time</th>\n",
       "      <th>Crime Subcategory</th>\n",
       "      <th>Primary Offense Description</th>\n",
       "      <th>Precinct</th>\n",
       "      <th>Sector</th>\n",
       "      <th>Beat</th>\n",
       "      <th>Neighborhood</th>\n",
       "    </tr>\n",
       "  </thead>\n",
       "  <tbody>\n",
       "    <tr>\n",
       "      <th>0</th>\n",
       "      <td>2.020000e+13</td>\n",
       "      <td>10/25/18</td>\n",
       "      <td>1631</td>\n",
       "      <td>10/25/18</td>\n",
       "      <td>1847</td>\n",
       "      <td>AGGRAVATED ASSAULT</td>\n",
       "      <td>ASSLT-AGG-WEAPON</td>\n",
       "      <td>SOUTHWEST</td>\n",
       "      <td>F</td>\n",
       "      <td>F1</td>\n",
       "      <td>SOUTH PARK</td>\n",
       "    </tr>\n",
       "    <tr>\n",
       "      <th>1</th>\n",
       "      <td>2.020000e+13</td>\n",
       "      <td>10/25/18</td>\n",
       "      <td>1647</td>\n",
       "      <td>10/25/18</td>\n",
       "      <td>1647</td>\n",
       "      <td>NARCOTIC</td>\n",
       "      <td>NARC-SELL-AMPHETAMINE</td>\n",
       "      <td>WEST</td>\n",
       "      <td>M</td>\n",
       "      <td>M3</td>\n",
       "      <td>DOWNTOWN COMMERCIAL</td>\n",
       "    </tr>\n",
       "    <tr>\n",
       "      <th>2</th>\n",
       "      <td>2.020000e+13</td>\n",
       "      <td>10/25/18</td>\n",
       "      <td>1656</td>\n",
       "      <td>10/25/18</td>\n",
       "      <td>1657</td>\n",
       "      <td>HOMICIDE</td>\n",
       "      <td>HOMICIDE-PREMEDITATED-GUN</td>\n",
       "      <td>NORTH</td>\n",
       "      <td>N</td>\n",
       "      <td>N3</td>\n",
       "      <td>NORTHGATE</td>\n",
       "    </tr>\n",
       "    <tr>\n",
       "      <th>3</th>\n",
       "      <td>2.020000e+13</td>\n",
       "      <td>10/25/18</td>\n",
       "      <td>1737</td>\n",
       "      <td>10/25/18</td>\n",
       "      <td>1737</td>\n",
       "      <td>AGGRAVATED ASSAULT</td>\n",
       "      <td>ASSLT-AGG-WEAPON</td>\n",
       "      <td>WEST</td>\n",
       "      <td>K</td>\n",
       "      <td>K3</td>\n",
       "      <td>PIONEER SQUARE</td>\n",
       "    </tr>\n",
       "    <tr>\n",
       "      <th>4</th>\n",
       "      <td>2.020000e+13</td>\n",
       "      <td>10/25/18</td>\n",
       "      <td>1833</td>\n",
       "      <td>10/25/18</td>\n",
       "      <td>1833</td>\n",
       "      <td>SEX OFFENSE-OTHER</td>\n",
       "      <td>SEXOFF-INDECENT EXPOSURE</td>\n",
       "      <td>WEST</td>\n",
       "      <td>D</td>\n",
       "      <td>D1</td>\n",
       "      <td>BELLTOWN</td>\n",
       "    </tr>\n",
       "  </tbody>\n",
       "</table>\n",
       "</div>"
      ],
      "text/plain": [
       "   Report Number Occurred Date  Occurred Time Reported Date  Reported Time  \\\n",
       "0   2.020000e+13      10/25/18           1631      10/25/18           1847   \n",
       "1   2.020000e+13      10/25/18           1647      10/25/18           1647   \n",
       "2   2.020000e+13      10/25/18           1656      10/25/18           1657   \n",
       "3   2.020000e+13      10/25/18           1737      10/25/18           1737   \n",
       "4   2.020000e+13      10/25/18           1833      10/25/18           1833   \n",
       "\n",
       "    Crime Subcategory Primary Offense Description   Precinct Sector Beat  \\\n",
       "0  AGGRAVATED ASSAULT            ASSLT-AGG-WEAPON  SOUTHWEST      F   F1   \n",
       "1            NARCOTIC       NARC-SELL-AMPHETAMINE       WEST      M   M3   \n",
       "2            HOMICIDE   HOMICIDE-PREMEDITATED-GUN      NORTH      N   N3   \n",
       "3  AGGRAVATED ASSAULT            ASSLT-AGG-WEAPON       WEST      K   K3   \n",
       "4   SEX OFFENSE-OTHER    SEXOFF-INDECENT EXPOSURE       WEST      D   D1   \n",
       "\n",
       "          Neighborhood  \n",
       "0           SOUTH PARK  \n",
       "1  DOWNTOWN COMMERCIAL  \n",
       "2            NORTHGATE  \n",
       "3       PIONEER SQUARE  \n",
       "4             BELLTOWN  "
      ]
     },
     "execution_count": 3,
     "metadata": {},
     "output_type": "execute_result"
    }
   ],
   "source": [
    "data_file.head()"
   ]
  },
  {
   "cell_type": "code",
   "execution_count": 4,
   "metadata": {},
   "outputs": [
    {
     "data": {
      "text/plain": [
       "188481"
      ]
     },
     "execution_count": 4,
     "metadata": {},
     "output_type": "execute_result"
    }
   ],
   "source": [
    "len(data_file)"
   ]
  },
  {
   "cell_type": "code",
   "execution_count": 5,
   "metadata": {},
   "outputs": [],
   "source": [
    "\n",
    "data_file['Occurred Date']= data_file['Occurred Date'].astype('datetime64[ns]')"
   ]
  },
  {
   "cell_type": "code",
   "execution_count": 6,
   "metadata": {},
   "outputs": [],
   "source": [
    "#Read all the categories of crime \n",
    "cats = data_file[\"Crime Subcategory\"].unique()"
   ]
  },
  {
   "cell_type": "code",
   "execution_count": 7,
   "metadata": {},
   "outputs": [],
   "source": [
    "cats_df = pd.DataFrame({\"Crime Subcategory\":cats})\n",
    "cats_df.to_csv('categories.csv')\n",
    "\n",
    "#Go to the excel and edit the file"
   ]
  },
  {
   "cell_type": "code",
   "execution_count": 8,
   "metadata": {},
   "outputs": [
    {
     "data": {
      "text/html": [
       "<div>\n",
       "<style scoped>\n",
       "    .dataframe tbody tr th:only-of-type {\n",
       "        vertical-align: middle;\n",
       "    }\n",
       "\n",
       "    .dataframe tbody tr th {\n",
       "        vertical-align: top;\n",
       "    }\n",
       "\n",
       "    .dataframe thead th {\n",
       "        text-align: right;\n",
       "    }\n",
       "</style>\n",
       "<table border=\"1\" class=\"dataframe\">\n",
       "  <thead>\n",
       "    <tr style=\"text-align: right;\">\n",
       "      <th></th>\n",
       "      <th>Crime Subcategory</th>\n",
       "      <th>Category Final</th>\n",
       "    </tr>\n",
       "  </thead>\n",
       "  <tbody>\n",
       "    <tr>\n",
       "      <th>0</th>\n",
       "      <td>AGGRAVATED ASSAULT</td>\n",
       "      <td>AGGRAVATED ASSAULT</td>\n",
       "    </tr>\n",
       "    <tr>\n",
       "      <th>1</th>\n",
       "      <td>NARCOTIC</td>\n",
       "      <td>DRUG OFFENSE</td>\n",
       "    </tr>\n",
       "    <tr>\n",
       "      <th>2</th>\n",
       "      <td>HOMICIDE</td>\n",
       "      <td>MURDER AND NON-NEGLIGENT MANSLAUGHTER</td>\n",
       "    </tr>\n",
       "    <tr>\n",
       "      <th>3</th>\n",
       "      <td>SEX OFFENSE-OTHER</td>\n",
       "      <td>RAPE</td>\n",
       "    </tr>\n",
       "    <tr>\n",
       "      <th>4</th>\n",
       "      <td>FAMILY OFFENSE-NONVIOLENT</td>\n",
       "      <td>MISC</td>\n",
       "    </tr>\n",
       "  </tbody>\n",
       "</table>\n",
       "</div>"
      ],
      "text/plain": [
       "           Crime Subcategory                         Category Final\n",
       "0         AGGRAVATED ASSAULT                     AGGRAVATED ASSAULT\n",
       "1                   NARCOTIC                           DRUG OFFENSE\n",
       "2                   HOMICIDE  MURDER AND NON-NEGLIGENT MANSLAUGHTER\n",
       "3          SEX OFFENSE-OTHER                                   RAPE\n",
       "4  FAMILY OFFENSE-NONVIOLENT                                   MISC"
      ]
     },
     "execution_count": 8,
     "metadata": {},
     "output_type": "execute_result"
    }
   ],
   "source": [
    "#read the new csv file with final category colummn and add to our new dataframe\n",
    "\n",
    "cats_key = pd.read_csv('category_keys.csv')\n",
    "cats_key.head()"
   ]
  },
  {
   "cell_type": "code",
   "execution_count": 9,
   "metadata": {},
   "outputs": [
    {
     "data": {
      "text/html": [
       "<div>\n",
       "<style scoped>\n",
       "    .dataframe tbody tr th:only-of-type {\n",
       "        vertical-align: middle;\n",
       "    }\n",
       "\n",
       "    .dataframe tbody tr th {\n",
       "        vertical-align: top;\n",
       "    }\n",
       "\n",
       "    .dataframe thead th {\n",
       "        text-align: right;\n",
       "    }\n",
       "</style>\n",
       "<table border=\"1\" class=\"dataframe\">\n",
       "  <thead>\n",
       "    <tr style=\"text-align: right;\">\n",
       "      <th></th>\n",
       "      <th>Report Number</th>\n",
       "      <th>Occurred Date</th>\n",
       "      <th>Occurred Time</th>\n",
       "      <th>Reported Date</th>\n",
       "      <th>Reported Time</th>\n",
       "      <th>Crime Subcategory</th>\n",
       "      <th>Primary Offense Description</th>\n",
       "      <th>Precinct</th>\n",
       "      <th>Sector</th>\n",
       "      <th>Beat</th>\n",
       "      <th>Neighborhood</th>\n",
       "      <th>Category Final</th>\n",
       "    </tr>\n",
       "  </thead>\n",
       "  <tbody>\n",
       "    <tr>\n",
       "      <th>0</th>\n",
       "      <td>2.020000e+13</td>\n",
       "      <td>2018-10-25</td>\n",
       "      <td>1631</td>\n",
       "      <td>10/25/18</td>\n",
       "      <td>1847</td>\n",
       "      <td>AGGRAVATED ASSAULT</td>\n",
       "      <td>ASSLT-AGG-WEAPON</td>\n",
       "      <td>SOUTHWEST</td>\n",
       "      <td>F</td>\n",
       "      <td>F1</td>\n",
       "      <td>SOUTH PARK</td>\n",
       "      <td>AGGRAVATED ASSAULT</td>\n",
       "    </tr>\n",
       "    <tr>\n",
       "      <th>1</th>\n",
       "      <td>2.020000e+13</td>\n",
       "      <td>2018-10-25</td>\n",
       "      <td>1647</td>\n",
       "      <td>10/25/18</td>\n",
       "      <td>1647</td>\n",
       "      <td>NARCOTIC</td>\n",
       "      <td>NARC-SELL-AMPHETAMINE</td>\n",
       "      <td>WEST</td>\n",
       "      <td>M</td>\n",
       "      <td>M3</td>\n",
       "      <td>DOWNTOWN COMMERCIAL</td>\n",
       "      <td>DRUG OFFENSE</td>\n",
       "    </tr>\n",
       "    <tr>\n",
       "      <th>2</th>\n",
       "      <td>2.020000e+13</td>\n",
       "      <td>2018-10-25</td>\n",
       "      <td>1656</td>\n",
       "      <td>10/25/18</td>\n",
       "      <td>1657</td>\n",
       "      <td>HOMICIDE</td>\n",
       "      <td>HOMICIDE-PREMEDITATED-GUN</td>\n",
       "      <td>NORTH</td>\n",
       "      <td>N</td>\n",
       "      <td>N3</td>\n",
       "      <td>NORTHGATE</td>\n",
       "      <td>MURDER AND NON-NEGLIGENT MANSLAUGHTER</td>\n",
       "    </tr>\n",
       "    <tr>\n",
       "      <th>3</th>\n",
       "      <td>2.020000e+13</td>\n",
       "      <td>2018-10-25</td>\n",
       "      <td>1737</td>\n",
       "      <td>10/25/18</td>\n",
       "      <td>1737</td>\n",
       "      <td>AGGRAVATED ASSAULT</td>\n",
       "      <td>ASSLT-AGG-WEAPON</td>\n",
       "      <td>WEST</td>\n",
       "      <td>K</td>\n",
       "      <td>K3</td>\n",
       "      <td>PIONEER SQUARE</td>\n",
       "      <td>AGGRAVATED ASSAULT</td>\n",
       "    </tr>\n",
       "    <tr>\n",
       "      <th>4</th>\n",
       "      <td>2.020000e+13</td>\n",
       "      <td>2018-10-25</td>\n",
       "      <td>1833</td>\n",
       "      <td>10/25/18</td>\n",
       "      <td>1833</td>\n",
       "      <td>SEX OFFENSE-OTHER</td>\n",
       "      <td>SEXOFF-INDECENT EXPOSURE</td>\n",
       "      <td>WEST</td>\n",
       "      <td>D</td>\n",
       "      <td>D1</td>\n",
       "      <td>BELLTOWN</td>\n",
       "      <td>RAPE</td>\n",
       "    </tr>\n",
       "  </tbody>\n",
       "</table>\n",
       "</div>"
      ],
      "text/plain": [
       "   Report Number Occurred Date  Occurred Time Reported Date  Reported Time  \\\n",
       "0   2.020000e+13    2018-10-25           1631      10/25/18           1847   \n",
       "1   2.020000e+13    2018-10-25           1647      10/25/18           1647   \n",
       "2   2.020000e+13    2018-10-25           1656      10/25/18           1657   \n",
       "3   2.020000e+13    2018-10-25           1737      10/25/18           1737   \n",
       "4   2.020000e+13    2018-10-25           1833      10/25/18           1833   \n",
       "\n",
       "    Crime Subcategory Primary Offense Description   Precinct Sector Beat  \\\n",
       "0  AGGRAVATED ASSAULT            ASSLT-AGG-WEAPON  SOUTHWEST      F   F1   \n",
       "1            NARCOTIC       NARC-SELL-AMPHETAMINE       WEST      M   M3   \n",
       "2            HOMICIDE   HOMICIDE-PREMEDITATED-GUN      NORTH      N   N3   \n",
       "3  AGGRAVATED ASSAULT            ASSLT-AGG-WEAPON       WEST      K   K3   \n",
       "4   SEX OFFENSE-OTHER    SEXOFF-INDECENT EXPOSURE       WEST      D   D1   \n",
       "\n",
       "          Neighborhood                         Category Final  \n",
       "0           SOUTH PARK                     AGGRAVATED ASSAULT  \n",
       "1  DOWNTOWN COMMERCIAL                           DRUG OFFENSE  \n",
       "2            NORTHGATE  MURDER AND NON-NEGLIGENT MANSLAUGHTER  \n",
       "3       PIONEER SQUARE                     AGGRAVATED ASSAULT  \n",
       "4             BELLTOWN                                   RAPE  "
      ]
     },
     "execution_count": 9,
     "metadata": {},
     "output_type": "execute_result"
    }
   ],
   "source": [
    "seattle_data = pd.merge(data_file,cats_key,on=\"Crime Subcategory\",how=\"left\")\n",
    "seattle_data.head()"
   ]
  },
  {
   "cell_type": "code",
   "execution_count": 10,
   "metadata": {},
   "outputs": [
    {
     "data": {
      "text/plain": [
       "array(['AGGRAVATED ASSAULT', 'DRUG OFFENSE',\n",
       "       'MURDER AND NON-NEGLIGENT MANSLAUGHTER', 'RAPE', 'MISC',\n",
       "       'BURGLARY', 'LARCENY-THEFT', 'MOTOR VEHICLE THEFT', 'ARSON'],\n",
       "      dtype=object)"
      ]
     },
     "execution_count": 10,
     "metadata": {},
     "output_type": "execute_result"
    }
   ],
   "source": [
    "crimes = seattle_data['Category Final'].unique()\n",
    "crimes"
   ]
  },
  {
   "cell_type": "code",
   "execution_count": 11,
   "metadata": {},
   "outputs": [],
   "source": [
    "# Add columns for each crime category, 0 = crime is not this category, 1 = crime is this category\n",
    "for c in crimes:\n",
    "    seattle_data[c]= seattle_data['Category Final'].apply(lambda s: int(s==c))\n",
    "\n",
    "# Group by date and export the counts to csv\n",
    "seattle_final_df = seattle_data.groupby(['Occurred Date'])\n",
    "seattle_final_df[crimes].sum().to_csv('seattle_by_date.csv')   "
   ]
  },
  {
   "cell_type": "code",
   "execution_count": null,
   "metadata": {},
   "outputs": [],
   "source": []
  },
  {
   "cell_type": "code",
   "execution_count": null,
   "metadata": {},
   "outputs": [],
   "source": []
  }
 ],
 "metadata": {
  "kernelspec": {
   "display_name": "Python 3",
   "language": "python",
   "name": "python3"
  },
  "language_info": {
   "codemirror_mode": {
    "name": "ipython",
    "version": 3
   },
   "file_extension": ".py",
   "mimetype": "text/x-python",
   "name": "python",
   "nbconvert_exporter": "python",
   "pygments_lexer": "ipython3",
   "version": "3.6.6"
  }
 },
 "nbformat": 4,
 "nbformat_minor": 2
}
