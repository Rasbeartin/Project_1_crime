{
 "cells": [
  {
   "cell_type": "code",
   "execution_count": 6,
   "metadata": {},
   "outputs": [],
   "source": [
    "import pandas as pd"
   ]
  },
  {
   "cell_type": "code",
   "execution_count": 7,
   "metadata": {},
   "outputs": [],
   "source": [
    "pheonix_df = pd.read_csv('./Pheonix_City/Pheonix_City_Crime_Data.csv.gz', low_memory=False)"
   ]
  },
  {
   "cell_type": "code",
   "execution_count": 5,
   "metadata": {},
   "outputs": [
    {
     "data": {
      "text/html": [
       "<div>\n",
       "<style scoped>\n",
       "    .dataframe tbody tr th:only-of-type {\n",
       "        vertical-align: middle;\n",
       "    }\n",
       "\n",
       "    .dataframe tbody tr th {\n",
       "        vertical-align: top;\n",
       "    }\n",
       "\n",
       "    .dataframe thead th {\n",
       "        text-align: right;\n",
       "    }\n",
       "</style>\n",
       "<table border=\"1\" class=\"dataframe\">\n",
       "  <thead>\n",
       "    <tr style=\"text-align: right;\">\n",
       "      <th></th>\n",
       "      <th>INC NUMBER</th>\n",
       "      <th>OCCURRED ON</th>\n",
       "      <th>OCCURRED TO</th>\n",
       "      <th>UCR CRIME CATEGORY</th>\n",
       "      <th>100 BLOCK ADDR</th>\n",
       "      <th>ZIP</th>\n",
       "      <th>PREMISE TYPE</th>\n",
       "    </tr>\n",
       "  </thead>\n",
       "  <tbody>\n",
       "    <tr>\n",
       "      <th>0</th>\n",
       "      <td>201500002101405</td>\n",
       "      <td>11/01/2015  00:00</td>\n",
       "      <td>11/01/2015  05:00</td>\n",
       "      <td>MOTOR VEHICLE THEFT</td>\n",
       "      <td>102XX W MEDLOCK AVE</td>\n",
       "      <td>85307.0</td>\n",
       "      <td>SINGLE FAMILY HOUSE</td>\n",
       "    </tr>\n",
       "    <tr>\n",
       "      <th>1</th>\n",
       "      <td>201500002102668</td>\n",
       "      <td>11/01/2015  00:00</td>\n",
       "      <td>11/01/2015  11:50</td>\n",
       "      <td>MOTOR VEHICLE THEFT</td>\n",
       "      <td>69XX W WOOD ST</td>\n",
       "      <td>85043.0</td>\n",
       "      <td>SINGLE FAMILY HOUSE</td>\n",
       "    </tr>\n",
       "    <tr>\n",
       "      <th>2</th>\n",
       "      <td>201600000052855</td>\n",
       "      <td>11/01/2015  00:00</td>\n",
       "      <td>01/09/2016  00:00</td>\n",
       "      <td>MOTOR VEHICLE THEFT</td>\n",
       "      <td>N 43RD AVE &amp; W CACTUS RD</td>\n",
       "      <td>85029.0</td>\n",
       "      <td>SINGLE FAMILY HOUSE</td>\n",
       "    </tr>\n",
       "    <tr>\n",
       "      <th>3</th>\n",
       "      <td>201500002168686</td>\n",
       "      <td>11/01/2015  00:00</td>\n",
       "      <td>11/11/2015  09:30</td>\n",
       "      <td>LARCENY-THEFT</td>\n",
       "      <td>14XX E HIGHLAND AVE</td>\n",
       "      <td>85014.0</td>\n",
       "      <td>PARKING LOT</td>\n",
       "    </tr>\n",
       "    <tr>\n",
       "      <th>4</th>\n",
       "      <td>201700001722914</td>\n",
       "      <td>11/01/2015  00:00</td>\n",
       "      <td>NaN</td>\n",
       "      <td>LARCENY-THEFT</td>\n",
       "      <td>279XX N 23RD LN</td>\n",
       "      <td>85085.0</td>\n",
       "      <td>SINGLE FAMILY HOUSE</td>\n",
       "    </tr>\n",
       "  </tbody>\n",
       "</table>\n",
       "</div>"
      ],
      "text/plain": [
       "        INC NUMBER        OCCURRED ON        OCCURRED TO   UCR CRIME CATEGORY  \\\n",
       "0  201500002101405  11/01/2015  00:00  11/01/2015  05:00  MOTOR VEHICLE THEFT   \n",
       "1  201500002102668  11/01/2015  00:00  11/01/2015  11:50  MOTOR VEHICLE THEFT   \n",
       "2  201600000052855  11/01/2015  00:00  01/09/2016  00:00  MOTOR VEHICLE THEFT   \n",
       "3  201500002168686  11/01/2015  00:00  11/11/2015  09:30        LARCENY-THEFT   \n",
       "4  201700001722914  11/01/2015  00:00                NaN        LARCENY-THEFT   \n",
       "\n",
       "             100 BLOCK ADDR      ZIP         PREMISE TYPE  \n",
       "0       102XX W MEDLOCK AVE  85307.0  SINGLE FAMILY HOUSE  \n",
       "1            69XX W WOOD ST  85043.0  SINGLE FAMILY HOUSE  \n",
       "2  N 43RD AVE & W CACTUS RD  85029.0  SINGLE FAMILY HOUSE  \n",
       "3       14XX E HIGHLAND AVE  85014.0          PARKING LOT  \n",
       "4           279XX N 23RD LN  85085.0  SINGLE FAMILY HOUSE  "
      ]
     },
     "execution_count": 5,
     "metadata": {},
     "output_type": "execute_result"
    }
   ],
   "source": [
    "pheonix_df.head()"
   ]
  },
  {
   "cell_type": "code",
   "execution_count": null,
   "metadata": {},
   "outputs": [],
   "source": []
  }
 ],
 "metadata": {
  "kernelspec": {
   "display_name": "Python 3",
   "language": "python",
   "name": "python3"
  },
  "language_info": {
   "codemirror_mode": {
    "name": "ipython",
    "version": 3
   },
   "file_extension": ".py",
   "mimetype": "text/x-python",
   "name": "python",
   "nbconvert_exporter": "python",
   "pygments_lexer": "ipython3",
   "version": "3.6.6"
  }
 },
 "nbformat": 4,
 "nbformat_minor": 2
}
