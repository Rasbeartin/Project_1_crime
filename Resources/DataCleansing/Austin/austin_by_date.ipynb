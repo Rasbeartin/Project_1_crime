{
 "cells": [
  {
   "cell_type": "code",
   "execution_count": 1,
   "metadata": {},
   "outputs": [],
   "source": [
    "import pandas as pd\n",
    "import datetime"
   ]
  },
  {
   "cell_type": "code",
   "execution_count": 2,
   "metadata": {},
   "outputs": [],
   "source": [
    "austin_df = pd.read_csv('Austin_Crime2015_2018_final.csv')"
   ]
  },
  {
   "cell_type": "code",
   "execution_count": 3,
   "metadata": {},
   "outputs": [
    {
     "data": {
      "text/html": [
       "<div>\n",
       "<style scoped>\n",
       "    .dataframe tbody tr th:only-of-type {\n",
       "        vertical-align: middle;\n",
       "    }\n",
       "\n",
       "    .dataframe tbody tr th {\n",
       "        vertical-align: top;\n",
       "    }\n",
       "\n",
       "    .dataframe thead th {\n",
       "        text-align: right;\n",
       "    }\n",
       "</style>\n",
       "<table border=\"1\" class=\"dataframe\">\n",
       "  <thead>\n",
       "    <tr style=\"text-align: right;\">\n",
       "      <th></th>\n",
       "      <th>Raw Crime Type</th>\n",
       "      <th>Cateogry Crime Type</th>\n",
       "      <th>Crime Date</th>\n",
       "    </tr>\n",
       "  </thead>\n",
       "  <tbody>\n",
       "    <tr>\n",
       "      <th>0</th>\n",
       "      <td>Robbery</td>\n",
       "      <td>BURGLARY</td>\n",
       "      <td>1/1/2015</td>\n",
       "    </tr>\n",
       "    <tr>\n",
       "      <th>1</th>\n",
       "      <td>Robbery</td>\n",
       "      <td>BURGLARY</td>\n",
       "      <td>1/1/2015</td>\n",
       "    </tr>\n",
       "    <tr>\n",
       "      <th>2</th>\n",
       "      <td>Burglary</td>\n",
       "      <td>BURGLARY</td>\n",
       "      <td>1/1/2015</td>\n",
       "    </tr>\n",
       "    <tr>\n",
       "      <th>3</th>\n",
       "      <td>Burglary</td>\n",
       "      <td>BURGLARY</td>\n",
       "      <td>1/1/2015</td>\n",
       "    </tr>\n",
       "    <tr>\n",
       "      <th>4</th>\n",
       "      <td>Burglary</td>\n",
       "      <td>BURGLARY</td>\n",
       "      <td>1/1/2015</td>\n",
       "    </tr>\n",
       "  </tbody>\n",
       "</table>\n",
       "</div>"
      ],
      "text/plain": [
       "  Raw Crime Type Cateogry Crime Type Crime Date\n",
       "0        Robbery            BURGLARY   1/1/2015\n",
       "1        Robbery            BURGLARY   1/1/2015\n",
       "2       Burglary            BURGLARY   1/1/2015\n",
       "3       Burglary            BURGLARY   1/1/2015\n",
       "4       Burglary            BURGLARY   1/1/2015"
      ]
     },
     "execution_count": 3,
     "metadata": {},
     "output_type": "execute_result"
    }
   ],
   "source": [
    "austin_df.head()"
   ]
  },
  {
   "cell_type": "code",
   "execution_count": 4,
   "metadata": {},
   "outputs": [
    {
     "data": {
      "text/plain": [
       "267714"
      ]
     },
     "execution_count": 4,
     "metadata": {},
     "output_type": "execute_result"
    }
   ],
   "source": [
    "len(austin_df)"
   ]
  },
  {
   "cell_type": "code",
   "execution_count": 5,
   "metadata": {},
   "outputs": [
    {
     "data": {
      "text/plain": [
       "array(['BURGLARY', 'THEFT', 'AGGRAVATED ASSAULT', ' RAPE',\n",
       "       'MURDER AND NON-NEGLIGENT MANSLAUGHTER', 'MISC', 'DRUG OFFENSE',\n",
       "       'FRAUD', ' MOTOR VEHICLE THEFT', 'ARSON'], dtype=object)"
      ]
     },
     "execution_count": 5,
     "metadata": {},
     "output_type": "execute_result"
    }
   ],
   "source": [
    "austin_df['Cateogry Crime Type'].unique()"
   ]
  },
  {
   "cell_type": "code",
   "execution_count": 6,
   "metadata": {},
   "outputs": [
    {
     "data": {
      "text/plain": [
       "10"
      ]
     },
     "execution_count": 6,
     "metadata": {},
     "output_type": "execute_result"
    }
   ],
   "source": [
    "austin_df['Cateogry Crime Type'].nunique()"
   ]
  },
  {
   "cell_type": "code",
   "execution_count": 7,
   "metadata": {},
   "outputs": [
    {
     "data": {
      "text/plain": [
       "THEFT                                    91713\n",
       "MISC                                     63420\n",
       "DRUG OFFENSE                             38803\n",
       "BURGLARY                                 38015\n",
       "AGGRAVATED ASSAULT                       30302\n",
       "FRAUD                                     2480\n",
       " RAPE                                     2215\n",
       " MOTOR VEHICLE THEFT                       502\n",
       "ARSON                                      145\n",
       "MURDER AND NON-NEGLIGENT MANSLAUGHTER      119\n",
       "Name: Cateogry Crime Type, dtype: int64"
      ]
     },
     "execution_count": 7,
     "metadata": {},
     "output_type": "execute_result"
    }
   ],
   "source": [
    "austin_df['Cateogry Crime Type'].value_counts()"
   ]
  },
  {
   "cell_type": "code",
   "execution_count": 8,
   "metadata": {},
   "outputs": [
    {
     "data": {
      "text/html": [
       "<div>\n",
       "<style scoped>\n",
       "    .dataframe tbody tr th:only-of-type {\n",
       "        vertical-align: middle;\n",
       "    }\n",
       "\n",
       "    .dataframe tbody tr th {\n",
       "        vertical-align: top;\n",
       "    }\n",
       "\n",
       "    .dataframe thead th {\n",
       "        text-align: right;\n",
       "    }\n",
       "</style>\n",
       "<table border=\"1\" class=\"dataframe\">\n",
       "  <thead>\n",
       "    <tr style=\"text-align: right;\">\n",
       "      <th></th>\n",
       "      <th>BURGLARY</th>\n",
       "      <th>THEFT</th>\n",
       "      <th>AGGRAVATED ASSAULT</th>\n",
       "      <th>RAPE</th>\n",
       "      <th>MURDER AND NON-NEGLIGENT MANSLAUGHTER</th>\n",
       "      <th>MISC</th>\n",
       "      <th>DRUG OFFENSE</th>\n",
       "      <th>FRAUD</th>\n",
       "      <th>MOTOR VEHICLE THEFT</th>\n",
       "      <th>ARSON</th>\n",
       "    </tr>\n",
       "    <tr>\n",
       "      <th>Crime Date</th>\n",
       "      <th></th>\n",
       "      <th></th>\n",
       "      <th></th>\n",
       "      <th></th>\n",
       "      <th></th>\n",
       "      <th></th>\n",
       "      <th></th>\n",
       "      <th></th>\n",
       "      <th></th>\n",
       "      <th></th>\n",
       "    </tr>\n",
       "  </thead>\n",
       "  <tbody>\n",
       "    <tr>\n",
       "      <th>1/1/2015</th>\n",
       "      <td>14</td>\n",
       "      <td>65</td>\n",
       "      <td>5</td>\n",
       "      <td>0</td>\n",
       "      <td>0</td>\n",
       "      <td>8</td>\n",
       "      <td>0</td>\n",
       "      <td>1</td>\n",
       "      <td>0</td>\n",
       "      <td>0</td>\n",
       "    </tr>\n",
       "    <tr>\n",
       "      <th>1/1/2016</th>\n",
       "      <td>18</td>\n",
       "      <td>55</td>\n",
       "      <td>13</td>\n",
       "      <td>5</td>\n",
       "      <td>0</td>\n",
       "      <td>22</td>\n",
       "      <td>1</td>\n",
       "      <td>2</td>\n",
       "      <td>0</td>\n",
       "      <td>0</td>\n",
       "    </tr>\n",
       "    <tr>\n",
       "      <th>1/1/2017</th>\n",
       "      <td>42</td>\n",
       "      <td>83</td>\n",
       "      <td>64</td>\n",
       "      <td>4</td>\n",
       "      <td>0</td>\n",
       "      <td>160</td>\n",
       "      <td>79</td>\n",
       "      <td>1</td>\n",
       "      <td>1</td>\n",
       "      <td>0</td>\n",
       "    </tr>\n",
       "    <tr>\n",
       "      <th>1/1/2018</th>\n",
       "      <td>32</td>\n",
       "      <td>50</td>\n",
       "      <td>49</td>\n",
       "      <td>4</td>\n",
       "      <td>0</td>\n",
       "      <td>96</td>\n",
       "      <td>61</td>\n",
       "      <td>3</td>\n",
       "      <td>1</td>\n",
       "      <td>1</td>\n",
       "    </tr>\n",
       "    <tr>\n",
       "      <th>1/10/2015</th>\n",
       "      <td>4</td>\n",
       "      <td>70</td>\n",
       "      <td>5</td>\n",
       "      <td>1</td>\n",
       "      <td>0</td>\n",
       "      <td>0</td>\n",
       "      <td>0</td>\n",
       "      <td>0</td>\n",
       "      <td>0</td>\n",
       "      <td>0</td>\n",
       "    </tr>\n",
       "  </tbody>\n",
       "</table>\n",
       "</div>"
      ],
      "text/plain": [
       "            BURGLARY  THEFT  AGGRAVATED ASSAULT   RAPE  \\\n",
       "Crime Date                                               \n",
       "1/1/2015          14     65                   5      0   \n",
       "1/1/2016          18     55                  13      5   \n",
       "1/1/2017          42     83                  64      4   \n",
       "1/1/2018          32     50                  49      4   \n",
       "1/10/2015          4     70                   5      1   \n",
       "\n",
       "            MURDER AND NON-NEGLIGENT MANSLAUGHTER  MISC  DRUG OFFENSE  FRAUD  \\\n",
       "Crime Date                                                                     \n",
       "1/1/2015                                        0     8             0      1   \n",
       "1/1/2016                                        0    22             1      2   \n",
       "1/1/2017                                        0   160            79      1   \n",
       "1/1/2018                                        0    96            61      3   \n",
       "1/10/2015                                       0     0             0      0   \n",
       "\n",
       "             MOTOR VEHICLE THEFT  ARSON  \n",
       "Crime Date                               \n",
       "1/1/2015                       0      0  \n",
       "1/1/2016                       0      0  \n",
       "1/1/2017                       1      0  \n",
       "1/1/2018                       1      1  \n",
       "1/10/2015                      0      0  "
      ]
     },
     "execution_count": 8,
     "metadata": {},
     "output_type": "execute_result"
    }
   ],
   "source": [
    "crimes = austin_df['Cateogry Crime Type'].unique()\n",
    "\n",
    "#Add columns for each crime category, 0 = crime is not this cateogry, 1 = crime is this category\n",
    "\n",
    "for c in crimes:\n",
    "    austin_df[c] = austin_df['Cateogry Crime Type'].apply(lambda s: int(s==c))\n",
    "\n",
    "austin_by_date = austin_df.groupby(['Crime Date'])\n",
    "\n",
    "austin_by_date[crimes].sum().head()"
   ]
  },
  {
   "cell_type": "code",
   "execution_count": 9,
   "metadata": {},
   "outputs": [],
   "source": [
    "output_file = \"austin_by_date.csv\"\n",
    "\n",
    "austin_by_date[crimes].sum().to_csv(output_file, encoding=\"utf-8\",\n",
    "                    index=True, sep=\",\", header=True)"
   ]
  }
 ],
 "metadata": {
  "kernelspec": {
   "display_name": "Python 3",
   "language": "python",
   "name": "python3"
  },
  "language_info": {
   "codemirror_mode": {
    "name": "ipython",
    "version": 3
   },
   "file_extension": ".py",
   "mimetype": "text/x-python",
   "name": "python",
   "nbconvert_exporter": "python",
   "pygments_lexer": "ipython3",
   "version": "3.6.5"
  }
 },
 "nbformat": 4,
 "nbformat_minor": 2
}
