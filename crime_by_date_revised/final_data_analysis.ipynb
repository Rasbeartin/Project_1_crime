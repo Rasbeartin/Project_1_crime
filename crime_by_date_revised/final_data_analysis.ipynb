{
 "cells": [
  {
   "cell_type": "markdown",
   "metadata": {},
   "source": [
    "### Import Dependencies"
   ]
  },
  {
   "cell_type": "code",
   "execution_count": 1,
   "metadata": {},
   "outputs": [],
   "source": [
    "import pandas as pd\n",
    "import datetime\n",
    "from matplotlib import pyplot as plt\n",
    "from scipy import stats\n",
    "import numpy as np\n"
   ]
  },
  {
   "cell_type": "markdown",
   "metadata": {},
   "source": [
    "### Read in the csv file grouped by date with a count of crime type for each city"
   ]
  },
  {
   "cell_type": "code",
   "execution_count": 2,
   "metadata": {},
   "outputs": [],
   "source": [
    "austin_total = pd.read_excel('Austin/austin_by_date_2016.xlsx',\n",
    "                             sheet_name='austin_by_date_2016')\n",
    "austin_avg = pd.read_excel('Austin/austin_by_date_2016.xlsx',\n",
    "                           sheet_name='austin_by_date_2016_avg')\n",
    "austin_holidays = pd.read_excel('Austin/austin_by_date_2016.xlsx',\n",
    "                                sheet_name='austin_by_date_2016 _holidays')\n",
    "la_total = pd.read_excel('Los_Angles_city/LA_by_date_2016.xlsx',\n",
    "                         sheet_name='LA_by_date_2016')\n",
    "la_avg = pd.read_excel('Los_Angles_city/LA_by_date_2016.xlsx',\n",
    "                       sheet_name='LA_by_date_2016_avg')\n",
    "la_holidays = pd.read_excel('Los_Angles_city/LA_by_date_2016.xlsx',\n",
    "                            sheet_name='LA_by_date_2016_holidays')\n",
    "chicago_total = pd.read_excel('Chicago_City/chicago_date_group_2016.xlsx',\n",
    "                              sheet_name='chicago_date_group_2016')\n",
    "chicago_avg = pd.read_excel('Chicago_City/chicago_date_group_2016.xlsx',\n",
    "                            sheet_name='chicago_date_group_2016_avg')\n",
    "chicago_holidays = pd.read_excel('Chicago_City/chicago_date_group_2016.xlsx',\n",
    "                                 sheet_name='chicago_date_group_2016_holiday')\n",
    "cities_total = pd.read_excel('cities_by_date_2016.xlsx',\n",
    "                             sheet_name='combined_cities_2016')\n",
    "cities_avg = pd.read_excel('cities_by_date_2016.xlsx',\n",
    "                           sheet_name='combined_cities_2016_avg')\n",
    "cities_holidays = pd.read_excel('cities_by_date_2016.xlsx',\n",
    "                                sheet_name='combined_cities_2016_holidays')"
   ]
  },
  {
   "cell_type": "markdown",
   "metadata": {},
   "source": [
    "### Convert to dataframes"
   ]
  },
  {
   "cell_type": "code",
   "execution_count": 3,
   "metadata": {},
   "outputs": [],
   "source": [
    "austin_total_df = pd.DataFrame(austin_total)\n",
    "austin_avg_df = pd.DataFrame(austin_avg)\n",
    "austin_holidays_df = pd.DataFrame(austin_holidays)\n",
    "\n",
    "la_total_df = pd.DataFrame(la_total)\n",
    "la_avg_df = pd.DataFrame(la_avg)\n",
    "la_holidays_df = pd.DataFrame(la_holidays)\n",
    "\n",
    "chicago_total_df = pd.DataFrame(chicago_total)\n",
    "chicago_avg_df = pd.DataFrame(chicago_avg)\n",
    "chicago_holidays_df = pd.DataFrame(chicago_holidays)\n",
    "\n",
    "cities_total_df = pd.DataFrame(cities_total)\n",
    "cities_avg_df = pd.DataFrame(cities_avg)\n",
    "cities_holidays_df = pd.DataFrame(cities_holidays)"
   ]
  },
  {
   "cell_type": "markdown",
   "metadata": {},
   "source": [
    "### Summary of Questions for analysis:\n",
    "1.        Is there an increase in crime during major shopping holidays? \n",
    "2.        Which Crimes are most prevalent during major shopping holidays? \n",
    "3.        Are there specific cities more prone to an increase in crime during major shopping holidays?\n",
    "4.        Do cities with the least amount of crime experience an increase in crime that is more than noticeable during major shopping holidays? \n",
    "5.        *insert new question*. "
   ]
  },
  {
   "cell_type": "markdown",
   "metadata": {},
   "source": [
    "Great sample resource:\n",
    "\n",
    "* UCFLM201809DATA2/05-Matplotlib/3/Activities/10-Stu_Fits_and_Regression/Solved/crime.ipynb \n",
    "* https://github.com/UCF-Coding-Boot-Camp/UCFLM201809DATA2/blob/master/05-Matplotlib/3/Activities/10-Stu_Fits_and_Regression/Solved/crime.ipynb"
   ]
  },
  {
   "cell_type": "markdown",
   "metadata": {},
   "source": [
    "###  Is there an increase in crime during major shopping holidays? "
   ]
  },
  {
   "cell_type": "markdown",
   "metadata": {},
   "source": [
    "### Definition of shopping holidays:"
   ]
  },
  {
   "cell_type": "code",
   "execution_count": 4,
   "metadata": {},
   "outputs": [
    {
     "data": {
      "text/html": [
       "<div>\n",
       "<style scoped>\n",
       "    .dataframe tbody tr th:only-of-type {\n",
       "        vertical-align: middle;\n",
       "    }\n",
       "\n",
       "    .dataframe tbody tr th {\n",
       "        vertical-align: top;\n",
       "    }\n",
       "\n",
       "    .dataframe thead th {\n",
       "        text-align: right;\n",
       "    }\n",
       "</style>\n",
       "<table border=\"1\" class=\"dataframe\">\n",
       "  <thead>\n",
       "    <tr style=\"text-align: right;\">\n",
       "      <th></th>\n",
       "      <th>Retail Holidays</th>\n",
       "      <th>2015 Year</th>\n",
       "      <th>2016 Year</th>\n",
       "      <th>2017 Year</th>\n",
       "      <th>2018 Year</th>\n",
       "    </tr>\n",
       "  </thead>\n",
       "  <tbody>\n",
       "    <tr>\n",
       "      <th>0</th>\n",
       "      <td>New Years Day</td>\n",
       "      <td>1/1/2015</td>\n",
       "      <td>1/1/2016</td>\n",
       "      <td>1/1/2017</td>\n",
       "      <td>1/1/2018</td>\n",
       "    </tr>\n",
       "    <tr>\n",
       "      <th>1</th>\n",
       "      <td>Martin Luther King Day</td>\n",
       "      <td>1/19/2015</td>\n",
       "      <td>1/18/2016</td>\n",
       "      <td>1/16/2017</td>\n",
       "      <td>1/15/2018</td>\n",
       "    </tr>\n",
       "    <tr>\n",
       "      <th>2</th>\n",
       "      <td>Super Bowl</td>\n",
       "      <td>2/1/2015</td>\n",
       "      <td>2/7/2016</td>\n",
       "      <td>2/5/2017</td>\n",
       "      <td>2/4/2018</td>\n",
       "    </tr>\n",
       "    <tr>\n",
       "      <th>3</th>\n",
       "      <td>Valentine's Day</td>\n",
       "      <td>2/14/2015</td>\n",
       "      <td>2/14/2016</td>\n",
       "      <td>2/14/2017</td>\n",
       "      <td>2/14/2018</td>\n",
       "    </tr>\n",
       "    <tr>\n",
       "      <th>4</th>\n",
       "      <td>Easter</td>\n",
       "      <td>4/5/2015</td>\n",
       "      <td>3/27/2016</td>\n",
       "      <td>4/16/2017</td>\n",
       "      <td>4/1/2018</td>\n",
       "    </tr>\n",
       "    <tr>\n",
       "      <th>5</th>\n",
       "      <td>Earth Day</td>\n",
       "      <td>4/22/2015</td>\n",
       "      <td>4/22/2016</td>\n",
       "      <td>4/22/2017</td>\n",
       "      <td>4/22/2018</td>\n",
       "    </tr>\n",
       "    <tr>\n",
       "      <th>6</th>\n",
       "      <td>Mother's Day</td>\n",
       "      <td>5/10/2015</td>\n",
       "      <td>5/8/2016</td>\n",
       "      <td>5/14/2017</td>\n",
       "      <td>5/13/2018</td>\n",
       "    </tr>\n",
       "    <tr>\n",
       "      <th>7</th>\n",
       "      <td>Memorial Day</td>\n",
       "      <td>5/25/2015</td>\n",
       "      <td>5/30/2016</td>\n",
       "      <td>5/29/2017</td>\n",
       "      <td>5/28/2018</td>\n",
       "    </tr>\n",
       "    <tr>\n",
       "      <th>8</th>\n",
       "      <td>Father's Day</td>\n",
       "      <td>6/21/2015</td>\n",
       "      <td>6/19/2016</td>\n",
       "      <td>6/18/2017</td>\n",
       "      <td>6/17/2018</td>\n",
       "    </tr>\n",
       "    <tr>\n",
       "      <th>9</th>\n",
       "      <td>Independence Day</td>\n",
       "      <td>7/4/2015</td>\n",
       "      <td>7/4/2016</td>\n",
       "      <td>7/4/2017</td>\n",
       "      <td>7/4/2018</td>\n",
       "    </tr>\n",
       "    <tr>\n",
       "      <th>10</th>\n",
       "      <td>Labor Day</td>\n",
       "      <td>9/7/2015</td>\n",
       "      <td>9/5/2016</td>\n",
       "      <td>9/4/2017</td>\n",
       "      <td>9/3/2018</td>\n",
       "    </tr>\n",
       "    <tr>\n",
       "      <th>11</th>\n",
       "      <td>Halloween</td>\n",
       "      <td>10/31/2015</td>\n",
       "      <td>10/31/2016</td>\n",
       "      <td>10/31/2017</td>\n",
       "      <td>10/31/2018</td>\n",
       "    </tr>\n",
       "    <tr>\n",
       "      <th>12</th>\n",
       "      <td>Veteran's Day</td>\n",
       "      <td>11/11/2015</td>\n",
       "      <td>11/11/2016</td>\n",
       "      <td>11/11/2017</td>\n",
       "      <td>11/11/2018</td>\n",
       "    </tr>\n",
       "    <tr>\n",
       "      <th>13</th>\n",
       "      <td>Thanksgiving</td>\n",
       "      <td>11/26/2015</td>\n",
       "      <td>11/24/2016</td>\n",
       "      <td>11/23/2017</td>\n",
       "      <td>11/22/2018</td>\n",
       "    </tr>\n",
       "    <tr>\n",
       "      <th>14</th>\n",
       "      <td>Black Friday</td>\n",
       "      <td>11/27/2015</td>\n",
       "      <td>11/25/2018</td>\n",
       "      <td>11/24/2017</td>\n",
       "      <td>11/23/2018</td>\n",
       "    </tr>\n",
       "    <tr>\n",
       "      <th>15</th>\n",
       "      <td>Cyber Monday</td>\n",
       "      <td>11/30/2015</td>\n",
       "      <td>11/28/2016</td>\n",
       "      <td>11/27/2017</td>\n",
       "      <td>11/26/2018</td>\n",
       "    </tr>\n",
       "    <tr>\n",
       "      <th>16</th>\n",
       "      <td>Hanukkah</td>\n",
       "      <td>12/5/2015</td>\n",
       "      <td>12/23/2016</td>\n",
       "      <td>12/11/2017</td>\n",
       "      <td>12/1/2018</td>\n",
       "    </tr>\n",
       "    <tr>\n",
       "      <th>17</th>\n",
       "      <td>Christmas</td>\n",
       "      <td>12/25/2015</td>\n",
       "      <td>12/25/2016</td>\n",
       "      <td>12/25/2017</td>\n",
       "      <td>12/25/2018</td>\n",
       "    </tr>\n",
       "    <tr>\n",
       "      <th>18</th>\n",
       "      <td>New Year's Eve</td>\n",
       "      <td>12/31/2015</td>\n",
       "      <td>12/31/2016</td>\n",
       "      <td>12/31/2017</td>\n",
       "      <td>12/31/2018</td>\n",
       "    </tr>\n",
       "  </tbody>\n",
       "</table>\n",
       "</div>"
      ],
      "text/plain": [
       "           Retail Holidays   2015 Year   2016 Year   2017 Year   2018 Year\n",
       "0            New Years Day    1/1/2015    1/1/2016    1/1/2017    1/1/2018\n",
       "1   Martin Luther King Day   1/19/2015   1/18/2016   1/16/2017   1/15/2018\n",
       "2               Super Bowl    2/1/2015    2/7/2016    2/5/2017    2/4/2018\n",
       "3          Valentine's Day   2/14/2015   2/14/2016   2/14/2017   2/14/2018\n",
       "4                   Easter    4/5/2015   3/27/2016   4/16/2017    4/1/2018\n",
       "5                Earth Day   4/22/2015   4/22/2016   4/22/2017   4/22/2018\n",
       "6             Mother's Day   5/10/2015    5/8/2016   5/14/2017   5/13/2018\n",
       "7             Memorial Day   5/25/2015   5/30/2016   5/29/2017   5/28/2018\n",
       "8             Father's Day   6/21/2015   6/19/2016   6/18/2017   6/17/2018\n",
       "9         Independence Day    7/4/2015    7/4/2016    7/4/2017    7/4/2018\n",
       "10               Labor Day    9/7/2015    9/5/2016    9/4/2017    9/3/2018\n",
       "11               Halloween  10/31/2015  10/31/2016  10/31/2017  10/31/2018\n",
       "12           Veteran's Day  11/11/2015  11/11/2016  11/11/2017  11/11/2018\n",
       "13            Thanksgiving  11/26/2015  11/24/2016  11/23/2017  11/22/2018\n",
       "14            Black Friday  11/27/2015  11/25/2018  11/24/2017  11/23/2018\n",
       "15            Cyber Monday  11/30/2015  11/28/2016  11/27/2017  11/26/2018\n",
       "16                Hanukkah   12/5/2015  12/23/2016  12/11/2017   12/1/2018\n",
       "17               Christmas  12/25/2015  12/25/2016  12/25/2017  12/25/2018\n",
       "18          New Year's Eve  12/31/2015  12/31/2016  12/31/2017  12/31/2018"
      ]
     },
     "execution_count": 4,
     "metadata": {},
     "output_type": "execute_result"
    }
   ],
   "source": [
    "holiday_df = pd.read_csv(\"retail_holidays.csv\")\n",
    "\n",
    "holiday_df"
   ]
  },
  {
   "cell_type": "markdown",
   "metadata": {},
   "source": [
    "###  Is there an increase in crime during major shopping holidays? \n",
    "\n",
    "* ### Use cities_dfs to answer this question\n",
    "* ### Charts should use: cities_df_avg (base)  vs cities_df_holidays"
   ]
  },
  {
   "cell_type": "code",
   "execution_count": 5,
   "metadata": {},
   "outputs": [],
   "source": [
    "# Dataframes to use:\n",
    "#cities_avg_df\n",
    "#cities_holidays_df\n",
    "\n",
    "# chart 1 : Line chart\n",
    "\n",
    "#save chart ('../Images/chart.png')"
   ]
  },
  {
   "cell_type": "code",
   "execution_count": 6,
   "metadata": {},
   "outputs": [],
   "source": [
    "# chart 2\n",
    "\n",
    "#save chart ('../Images/chart.png')"
   ]
  },
  {
   "cell_type": "markdown",
   "metadata": {},
   "source": [
    "### Which Crimes are most prevalent during major holidays? \n",
    "\n",
    "* ### Use cities_dfs to answer this question\n",
    "* ### Charts should use: cities_df_holidays and cities_df_avg\n",
    "* #### Chart 1: simple bar chart using cities_df_holidays totals. crime types on x-axis.\n",
    "* #### Analysis 1: Will provide a glimpse of crimes on major shoppping holidays\n",
    "* #### Chart 2: bar chart1: holiday crime with crime type on x-axis vs bar chart2: avg crime with crime type on x-axis\n",
    "* #### Analysis 2: B/c this chart includes the avg crime as a base, we can determine if a crime is more prevalent during the holiday specifically, or if there is simply more of these types of crimes committed regardless of holiday/non holiday"
   ]
  },
  {
   "cell_type": "code",
   "execution_count": 7,
   "metadata": {},
   "outputs": [],
   "source": [
    "# Dataframes to use:\n",
    "#cities_holidays_df\n",
    "\n",
    "# chart 1 bar chart. Note: crime types go on x-axis\n",
    "\n",
    "#save chart ('../Images/chart.png')"
   ]
  },
  {
   "cell_type": "code",
   "execution_count": 8,
   "metadata": {},
   "outputs": [],
   "source": [
    "# chart 2\n",
    "\n",
    "#save chart ('../Images/chart.png')"
   ]
  },
  {
   "cell_type": "markdown",
   "metadata": {},
   "source": [
    "### Are there specific cities more prone to an increase in crime during major holidays?\n",
    "\n",
    "* #### Analysis: Focus on aggregated crime data for each city. Do not need specifics of each crime type right now\n",
    "* #### Avg crime in chicago (base) vs Total crime on holiday in chicago. Calc holiday crime total - base (repeat for each city). Which city experiences greatest increase/decrease in crime ?\n",
    "\n",
    "* #### Also consider: Avg crime in chicago (base) vs Avg crime on holiday in chicago. Calc holiday crime avg - base (repeat for each city). Which city experiences greatest increase/decrease in crime ?"
   ]
  },
  {
   "cell_type": "code",
   "execution_count": 9,
   "metadata": {},
   "outputs": [],
   "source": [
    "# Dataframes to use:\n",
    "#austin_holidays_df\n",
    "#austin_avg_df\n",
    "#la_holidays_df\n",
    "#la_avg_df\n",
    "#chicago_holidays_df\n",
    "#chicago_avg_df\n",
    "\n",
    "\n",
    "# chart 1\n",
    "\n",
    "#save chart ('../Images/chart.png')"
   ]
  },
  {
   "cell_type": "code",
   "execution_count": 10,
   "metadata": {},
   "outputs": [],
   "source": [
    "# chart 2\n",
    "\n",
    "#save chart ('../Images/chart.png')"
   ]
  },
  {
   "cell_type": "markdown",
   "metadata": {},
   "source": [
    "### Do cities with the least amount of crime experience an increase in crime that is more than noticeable during major holidays?\n",
    "\n",
    "* #### This question is a bit subjective b/c it does not acct for population size. Use the method below to answer question:\n",
    "* #### Find crime per captia: simply divide the total crime by the total population of the city\n",
    "* #### Next, find the city with the lowest per captia crime\n",
    "* #### Finally, for the city with the lowest per captia crime, use data frm question 3 and display the increase/decrease in crime during major holidays vs base (avg annual crime)"
   ]
  },
  {
   "cell_type": "code",
   "execution_count": 11,
   "metadata": {},
   "outputs": [],
   "source": [
    "# population #s frm United States Census Bureau: \n",
    "\n",
    "austin_pop = 938200\n",
    "la_pop = 3981000\n",
    "chicago_pop = 2720000 \n",
    "\n",
    "# chart 1\n",
    "\n",
    "#save chart ('../Images/chart.png')"
   ]
  },
  {
   "cell_type": "code",
   "execution_count": 12,
   "metadata": {},
   "outputs": [],
   "source": [
    "# chart 2\n",
    "\n",
    "#save chart ('../Images/chart.png')"
   ]
  },
  {
   "cell_type": "markdown",
   "metadata": {},
   "source": [
    "### Bonus Question. This question should be answered LAST after questions 1-4 have been answered with corresponding charts/conclusions. Use google Maps API.\n",
    "* #### Choose one city: Chicago or LA:\n",
    "* #### Map crime location base vs crime location during holiday. Use base location plotting as one symbol, holiday location plotting using a different symbol\n",
    "* #### Include on map, major(predefined) retail location. Use one symbol to represent these retail locations. Plot location of holiday crimes using a different symbol. Does there appear to be any concenstration of crimes near these retail locations.\n",
    "\n",
    "#### Predefined Retail locations:\n",
    "* #### Wal-mart\n",
    "* #### Bestbuy\n",
    "* #### Radio Shack\n",
    "* #### One other major retail store"
   ]
  },
  {
   "cell_type": "code",
   "execution_count": 13,
   "metadata": {},
   "outputs": [],
   "source": [
    "# chart 1\n",
    "\n",
    "#save chart ('../Images/chart.png')"
   ]
  },
  {
   "cell_type": "code",
   "execution_count": 14,
   "metadata": {},
   "outputs": [],
   "source": [
    "# chart 2\n",
    "\n",
    "#save chart ('../Images/chart.png')"
   ]
  },
  {
   "cell_type": "markdown",
   "metadata": {},
   "source": [
    "### Conclusion\n",
    "* Based on the data in this study, crime does/does not seem to increase during major shopping holidays\n",
    "* Based on the data in this study, crime1,crime2, crime3, seem to be more prevelant during major shopping holidays\n",
    "* Based on the data in this study, cityn, citym, cityk, seem to be more prone to an increase in crime during major shopping holidays\n",
    "* Based on the data in the study, cities with the least amount of crime do/do not seem to experience an increase in crime that's more noticeable during major shopping holidays"
   ]
  },
  {
   "cell_type": "markdown",
   "metadata": {},
   "source": [
    "### A step further\n",
    "* limitations of the study: time constraints, lack of crime expertise, reliability of data\n",
    "* biases of the study\n",
    "* improvements: how study can be improved\n",
    "* Major takeways"
   ]
  },
  {
   "cell_type": "code",
   "execution_count": null,
   "metadata": {},
   "outputs": [],
   "source": []
  }
 ],
 "metadata": {
  "kernelspec": {
   "display_name": "Python 3",
   "language": "python",
   "name": "python3"
  },
  "language_info": {
   "codemirror_mode": {
    "name": "ipython",
    "version": 3
   },
   "file_extension": ".py",
   "mimetype": "text/x-python",
   "name": "python",
   "nbconvert_exporter": "python",
   "pygments_lexer": "ipython3",
   "version": "3.6.5"
  }
 },
 "nbformat": 4,
 "nbformat_minor": 2
}
