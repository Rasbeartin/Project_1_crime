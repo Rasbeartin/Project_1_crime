{
 "cells": [
  {
   "cell_type": "markdown",
   "metadata": {},
   "source": [
    "### Import Dependencies"
   ]
  },
  {
   "cell_type": "code",
   "execution_count": 1,
   "metadata": {},
   "outputs": [],
   "source": [
    "import pandas as pd\n",
    "import datetime\n",
    "from matplotlib import pyplot as plt\n",
    "from scipy import stats\n",
    "import numpy as np\n"
   ]
  },
  {
   "cell_type": "markdown",
   "metadata": {},
   "source": [
    "### Read in the csv file grouped by date with a count of crime type for each city"
   ]
  },
  {
   "cell_type": "code",
   "execution_count": 2,
   "metadata": {},
   "outputs": [],
   "source": [
    "austin_total = pd.read_excel('Austin/austin_by_date_2016.xlsx',\n",
    "                             sheet_name='austin_by_date_2016')\n",
    "austin_avg = pd.read_excel('Austin/austin_by_date_2016.xlsx',\n",
    "                           sheet_name='austin_by_date_2016_avg')\n",
    "austin_holidays = pd.read_excel('Austin/austin_by_date_2016.xlsx',\n",
    "                                sheet_name='austin_by_date_2016 _holidays')\n",
    "la_total = pd.read_excel('Los_Angles_city/LA_by_date_2016.xlsx',\n",
    "                         sheet_name='LA_by_date_2016')\n",
    "la_avg = pd.read_excel('Los_Angles_city/LA_by_date_2016.xlsx',\n",
    "                       sheet_name='LA_by_date_2016_avg')\n",
    "la_holidays = pd.read_excel('Los_Angles_city/LA_by_date_2016.xlsx',\n",
    "                            sheet_name='LA_by_date_2016_holidays')\n",
    "chicago_total = pd.read_excel('Chicago_City/chicago_date_group_2016.xlsx',\n",
    "                              sheet_name='chicago_date_group_2016')\n",
    "chicago_avg = pd.read_excel('Chicago_City/chicago_date_group_2016.xlsx',\n",
    "                            sheet_name='chicago_date_group_2016_avg')\n",
    "chicago_holidays = pd.read_excel('Chicago_City/chicago_date_group_2016.xlsx',\n",
    "                                 sheet_name='chicago_date_group_2016_holiday')\n",
    "cities_total = pd.read_excel('cities_by_date_2016.xlsx',\n",
    "                             sheet_name='combined_cities_2016')\n",
    "cities_avg = pd.read_excel('cities_by_date_2016.xlsx',\n",
    "                           sheet_name='combined_cities_2016_avg')\n",
    "cities_holidays = pd.read_excel('cities_by_date_2016.xlsx',\n",
    "                                sheet_name='combined_cities_2016_holidays')"
   ]
  },
  {
   "cell_type": "markdown",
   "metadata": {},
   "source": [
    "### Convert to dataframes"
   ]
  },
  {
   "cell_type": "code",
   "execution_count": 3,
   "metadata": {},
   "outputs": [],
   "source": [
    "austin_total_df = pd.DataFrame(austin_total)\n",
    "austin_avg_df = pd.DataFrame(austin_avg)\n",
    "austin_holidays_df = pd.DataFrame(austin_holidays)\n",
    "\n",
    "la_total_df = pd.DataFrame(la_total)\n",
    "la_avg_df = pd.DataFrame(la_avg)\n",
    "la_holidays_df = pd.DataFrame(la_holidays)\n",
    "\n",
    "chicago_total_df = pd.DataFrame(chicago_total)\n",
    "chicago_avg_df = pd.DataFrame(chicago_avg)\n",
    "chicago_holidays_df = pd.DataFrame(chicago_holidays)\n",
    "\n",
    "cities_total_df = pd.DataFrame(cities_total)\n",
    "cities_avg_df = pd.DataFrame(cities_avg)\n",
    "cities_holidays_df = pd.DataFrame(cities_holidays)"
   ]
  },
  {
   "cell_type": "markdown",
   "metadata": {},
   "source": [
    "### Summary of Questions for analysis:\n",
    "1.        Is there an increase in crime during major shopping holidays? \n",
    "2.        Which Crimes are most prevalent during major shopping holidays? \n",
    "3.        Are there specific cities more prone to an increase in crime during major shopping holidays?\n",
    "4.        Do cities with the least amount of crime experience an increase in crime that is more than noticeable during major shopping holidays? \n",
    "5.        *insert new question*. "
   ]
  },
  {
   "cell_type": "markdown",
   "metadata": {},
   "source": [
    "Great sample resource:\n",
    "\n",
    "* UCFLM201809DATA2/05-Matplotlib/3/Activities/10-Stu_Fits_and_Regression/Solved/crime.ipynb \n",
    "* https://github.com/UCF-Coding-Boot-Camp/UCFLM201809DATA2/blob/master/05-Matplotlib/3/Activities/10-Stu_Fits_and_Regression/Solved/crime.ipynb"
   ]
  },
  {
   "cell_type": "markdown",
   "metadata": {},
   "source": [
    "###  Is there an increase in crime during major shopping holidays? "
   ]
  },
  {
   "cell_type": "markdown",
   "metadata": {},
   "source": [
    "### Definition of shopping holidays:"
   ]
  },
  {
   "cell_type": "code",
   "execution_count": 4,
   "metadata": {},
   "outputs": [
    {
     "ename": "FileNotFoundError",
     "evalue": "File b'retail_holidays.csv' does not exist",
     "output_type": "error",
     "traceback": [
      "\u001b[1;31m---------------------------------------------------------------------------\u001b[0m",
      "\u001b[1;31mFileNotFoundError\u001b[0m                         Traceback (most recent call last)",
      "\u001b[1;32m<ipython-input-4-99492f426225>\u001b[0m in \u001b[0;36m<module>\u001b[1;34m()\u001b[0m\n\u001b[1;32m----> 1\u001b[1;33m \u001b[0mholiday_df\u001b[0m \u001b[1;33m=\u001b[0m \u001b[0mpd\u001b[0m\u001b[1;33m.\u001b[0m\u001b[0mread_csv\u001b[0m\u001b[1;33m(\u001b[0m\u001b[1;34m\"retail_holidays.csv\"\u001b[0m\u001b[1;33m)\u001b[0m\u001b[1;33m\u001b[0m\u001b[0m\n\u001b[0m\u001b[0;32m      2\u001b[0m \u001b[1;33m\u001b[0m\u001b[0m\n\u001b[0;32m      3\u001b[0m \u001b[0mholiday_df\u001b[0m\u001b[1;33m\u001b[0m\u001b[0m\n",
      "\u001b[1;32m~\\Anaconda3\\envs\\PythonData\\lib\\site-packages\\pandas\\io\\parsers.py\u001b[0m in \u001b[0;36mparser_f\u001b[1;34m(filepath_or_buffer, sep, delimiter, header, names, index_col, usecols, squeeze, prefix, mangle_dupe_cols, dtype, engine, converters, true_values, false_values, skipinitialspace, skiprows, nrows, na_values, keep_default_na, na_filter, verbose, skip_blank_lines, parse_dates, infer_datetime_format, keep_date_col, date_parser, dayfirst, iterator, chunksize, compression, thousands, decimal, lineterminator, quotechar, quoting, escapechar, comment, encoding, dialect, tupleize_cols, error_bad_lines, warn_bad_lines, skipfooter, doublequote, delim_whitespace, low_memory, memory_map, float_precision)\u001b[0m\n\u001b[0;32m    676\u001b[0m                     skip_blank_lines=skip_blank_lines)\n\u001b[0;32m    677\u001b[0m \u001b[1;33m\u001b[0m\u001b[0m\n\u001b[1;32m--> 678\u001b[1;33m         \u001b[1;32mreturn\u001b[0m \u001b[0m_read\u001b[0m\u001b[1;33m(\u001b[0m\u001b[0mfilepath_or_buffer\u001b[0m\u001b[1;33m,\u001b[0m \u001b[0mkwds\u001b[0m\u001b[1;33m)\u001b[0m\u001b[1;33m\u001b[0m\u001b[0m\n\u001b[0m\u001b[0;32m    679\u001b[0m \u001b[1;33m\u001b[0m\u001b[0m\n\u001b[0;32m    680\u001b[0m     \u001b[0mparser_f\u001b[0m\u001b[1;33m.\u001b[0m\u001b[0m__name__\u001b[0m \u001b[1;33m=\u001b[0m \u001b[0mname\u001b[0m\u001b[1;33m\u001b[0m\u001b[0m\n",
      "\u001b[1;32m~\\Anaconda3\\envs\\PythonData\\lib\\site-packages\\pandas\\io\\parsers.py\u001b[0m in \u001b[0;36m_read\u001b[1;34m(filepath_or_buffer, kwds)\u001b[0m\n\u001b[0;32m    438\u001b[0m \u001b[1;33m\u001b[0m\u001b[0m\n\u001b[0;32m    439\u001b[0m     \u001b[1;31m# Create the parser.\u001b[0m\u001b[1;33m\u001b[0m\u001b[1;33m\u001b[0m\u001b[0m\n\u001b[1;32m--> 440\u001b[1;33m     \u001b[0mparser\u001b[0m \u001b[1;33m=\u001b[0m \u001b[0mTextFileReader\u001b[0m\u001b[1;33m(\u001b[0m\u001b[0mfilepath_or_buffer\u001b[0m\u001b[1;33m,\u001b[0m \u001b[1;33m**\u001b[0m\u001b[0mkwds\u001b[0m\u001b[1;33m)\u001b[0m\u001b[1;33m\u001b[0m\u001b[0m\n\u001b[0m\u001b[0;32m    441\u001b[0m \u001b[1;33m\u001b[0m\u001b[0m\n\u001b[0;32m    442\u001b[0m     \u001b[1;32mif\u001b[0m \u001b[0mchunksize\u001b[0m \u001b[1;32mor\u001b[0m \u001b[0miterator\u001b[0m\u001b[1;33m:\u001b[0m\u001b[1;33m\u001b[0m\u001b[0m\n",
      "\u001b[1;32m~\\Anaconda3\\envs\\PythonData\\lib\\site-packages\\pandas\\io\\parsers.py\u001b[0m in \u001b[0;36m__init__\u001b[1;34m(self, f, engine, **kwds)\u001b[0m\n\u001b[0;32m    785\u001b[0m             \u001b[0mself\u001b[0m\u001b[1;33m.\u001b[0m\u001b[0moptions\u001b[0m\u001b[1;33m[\u001b[0m\u001b[1;34m'has_index_names'\u001b[0m\u001b[1;33m]\u001b[0m \u001b[1;33m=\u001b[0m \u001b[0mkwds\u001b[0m\u001b[1;33m[\u001b[0m\u001b[1;34m'has_index_names'\u001b[0m\u001b[1;33m]\u001b[0m\u001b[1;33m\u001b[0m\u001b[0m\n\u001b[0;32m    786\u001b[0m \u001b[1;33m\u001b[0m\u001b[0m\n\u001b[1;32m--> 787\u001b[1;33m         \u001b[0mself\u001b[0m\u001b[1;33m.\u001b[0m\u001b[0m_make_engine\u001b[0m\u001b[1;33m(\u001b[0m\u001b[0mself\u001b[0m\u001b[1;33m.\u001b[0m\u001b[0mengine\u001b[0m\u001b[1;33m)\u001b[0m\u001b[1;33m\u001b[0m\u001b[0m\n\u001b[0m\u001b[0;32m    788\u001b[0m \u001b[1;33m\u001b[0m\u001b[0m\n\u001b[0;32m    789\u001b[0m     \u001b[1;32mdef\u001b[0m \u001b[0mclose\u001b[0m\u001b[1;33m(\u001b[0m\u001b[0mself\u001b[0m\u001b[1;33m)\u001b[0m\u001b[1;33m:\u001b[0m\u001b[1;33m\u001b[0m\u001b[0m\n",
      "\u001b[1;32m~\\Anaconda3\\envs\\PythonData\\lib\\site-packages\\pandas\\io\\parsers.py\u001b[0m in \u001b[0;36m_make_engine\u001b[1;34m(self, engine)\u001b[0m\n\u001b[0;32m   1012\u001b[0m     \u001b[1;32mdef\u001b[0m \u001b[0m_make_engine\u001b[0m\u001b[1;33m(\u001b[0m\u001b[0mself\u001b[0m\u001b[1;33m,\u001b[0m \u001b[0mengine\u001b[0m\u001b[1;33m=\u001b[0m\u001b[1;34m'c'\u001b[0m\u001b[1;33m)\u001b[0m\u001b[1;33m:\u001b[0m\u001b[1;33m\u001b[0m\u001b[0m\n\u001b[0;32m   1013\u001b[0m         \u001b[1;32mif\u001b[0m \u001b[0mengine\u001b[0m \u001b[1;33m==\u001b[0m \u001b[1;34m'c'\u001b[0m\u001b[1;33m:\u001b[0m\u001b[1;33m\u001b[0m\u001b[0m\n\u001b[1;32m-> 1014\u001b[1;33m             \u001b[0mself\u001b[0m\u001b[1;33m.\u001b[0m\u001b[0m_engine\u001b[0m \u001b[1;33m=\u001b[0m \u001b[0mCParserWrapper\u001b[0m\u001b[1;33m(\u001b[0m\u001b[0mself\u001b[0m\u001b[1;33m.\u001b[0m\u001b[0mf\u001b[0m\u001b[1;33m,\u001b[0m \u001b[1;33m**\u001b[0m\u001b[0mself\u001b[0m\u001b[1;33m.\u001b[0m\u001b[0moptions\u001b[0m\u001b[1;33m)\u001b[0m\u001b[1;33m\u001b[0m\u001b[0m\n\u001b[0m\u001b[0;32m   1015\u001b[0m         \u001b[1;32melse\u001b[0m\u001b[1;33m:\u001b[0m\u001b[1;33m\u001b[0m\u001b[0m\n\u001b[0;32m   1016\u001b[0m             \u001b[1;32mif\u001b[0m \u001b[0mengine\u001b[0m \u001b[1;33m==\u001b[0m \u001b[1;34m'python'\u001b[0m\u001b[1;33m:\u001b[0m\u001b[1;33m\u001b[0m\u001b[0m\n",
      "\u001b[1;32m~\\Anaconda3\\envs\\PythonData\\lib\\site-packages\\pandas\\io\\parsers.py\u001b[0m in \u001b[0;36m__init__\u001b[1;34m(self, src, **kwds)\u001b[0m\n\u001b[0;32m   1706\u001b[0m         \u001b[0mkwds\u001b[0m\u001b[1;33m[\u001b[0m\u001b[1;34m'usecols'\u001b[0m\u001b[1;33m]\u001b[0m \u001b[1;33m=\u001b[0m \u001b[0mself\u001b[0m\u001b[1;33m.\u001b[0m\u001b[0musecols\u001b[0m\u001b[1;33m\u001b[0m\u001b[0m\n\u001b[0;32m   1707\u001b[0m \u001b[1;33m\u001b[0m\u001b[0m\n\u001b[1;32m-> 1708\u001b[1;33m         \u001b[0mself\u001b[0m\u001b[1;33m.\u001b[0m\u001b[0m_reader\u001b[0m \u001b[1;33m=\u001b[0m \u001b[0mparsers\u001b[0m\u001b[1;33m.\u001b[0m\u001b[0mTextReader\u001b[0m\u001b[1;33m(\u001b[0m\u001b[0msrc\u001b[0m\u001b[1;33m,\u001b[0m \u001b[1;33m**\u001b[0m\u001b[0mkwds\u001b[0m\u001b[1;33m)\u001b[0m\u001b[1;33m\u001b[0m\u001b[0m\n\u001b[0m\u001b[0;32m   1709\u001b[0m \u001b[1;33m\u001b[0m\u001b[0m\n\u001b[0;32m   1710\u001b[0m         \u001b[0mpassed_names\u001b[0m \u001b[1;33m=\u001b[0m \u001b[0mself\u001b[0m\u001b[1;33m.\u001b[0m\u001b[0mnames\u001b[0m \u001b[1;32mis\u001b[0m \u001b[1;32mNone\u001b[0m\u001b[1;33m\u001b[0m\u001b[0m\n",
      "\u001b[1;32mpandas\\_libs\\parsers.pyx\u001b[0m in \u001b[0;36mpandas._libs.parsers.TextReader.__cinit__\u001b[1;34m()\u001b[0m\n",
      "\u001b[1;32mpandas\\_libs\\parsers.pyx\u001b[0m in \u001b[0;36mpandas._libs.parsers.TextReader._setup_parser_source\u001b[1;34m()\u001b[0m\n",
      "\u001b[1;31mFileNotFoundError\u001b[0m: File b'retail_holidays.csv' does not exist"
     ]
    }
   ],
   "source": [
    "holiday_df = pd.read_csv(\"retail_holidays.csv\")\n",
    "\n",
    "holiday_df"
   ]
  },
  {
   "cell_type": "markdown",
   "metadata": {},
   "source": [
    "###  Is there an increase in crime during major shopping holidays? \n",
    "\n",
    "* ### Use cities_dfs to answer this question\n",
    "* ### Charts should use: cities_df_avg (base)  vs cities_df_holidays"
   ]
  },
  {
   "cell_type": "code",
   "execution_count": null,
   "metadata": {},
   "outputs": [],
   "source": [
    "# Dataframes to use:\n",
    "#cities_avg_df\n",
    "#cities_holidays_df\n",
    "\n",
    "# chart 1 : Line chart\n",
    "\n",
    "#save chart ('../Images/chart.png')"
   ]
  },
  {
   "cell_type": "code",
   "execution_count": null,
   "metadata": {},
   "outputs": [],
   "source": [
    "# chart 2\n",
    "\n",
    "#save chart ('../Images/chart.png')"
   ]
  },
  {
   "cell_type": "markdown",
   "metadata": {},
   "source": [
    "### Which Crimes are most prevalent during major holidays? \n",
    "\n",
    "* ### Use cities_dfs to answer this question\n",
    "* ### Charts should use: cities_df_holidays and cities_df_avg\n",
    "* #### Chart 1: simple bar chart using cities_df_holidays totals. crime types on x-axis.\n",
    "* #### Analysis 1: Will provide a glimpse of crimes on major shoppping holidays\n",
    "* #### Chart 2: bar chart1: holiday crime with crime type on x-axis vs bar chart2: avg crime with crime type on x-axis\n",
    "* #### Analysis 2: B/c this chart includes the avg crime as a base, we can determine if a crime is more prevalent during the holiday specifically, or if there is simply more of these types of crimes committed regardless of holiday/non holiday"
   ]
  },
  {
   "cell_type": "code",
   "execution_count": null,
   "metadata": {},
   "outputs": [],
   "source": [
    "# Dataframes to use:\n",
    "#cities_holidays_df\n",
    "\n",
    "# chart 1 bar chart. Note: crime types go on x-axis\n",
    "\n",
    "#save chart ('../Images/chart.png')"
   ]
  },
  {
   "cell_type": "code",
   "execution_count": null,
   "metadata": {},
   "outputs": [],
   "source": [
    "# chart 2\n",
    "\n",
    "#save chart ('../Images/chart.png')"
   ]
  },
  {
   "cell_type": "markdown",
   "metadata": {},
   "source": [
    "### Are there specific cities more prone to an increase in crime during major holidays?\n",
    "\n",
    "* #### Analysis: Focus on aggregated crime data for each city. Do not need specifics of each crime type right now\n",
    "* #### Avg crime in chicago (base) vs Total crime on holiday in chicago. Calc holiday crime total - base (repeat for each city). Which city experiences greatest increase/decrease in crime ?\n",
    "\n",
    "* #### Also consider: Avg crime in chicago (base) vs Avg crime on holiday in chicago. Calc holiday crime avg - base (repeat for each city). Which city experiences greatest increase/decrease in crime ?"
   ]
  },
  {
   "cell_type": "code",
   "execution_count": null,
   "metadata": {},
   "outputs": [],
   "source": [
    "# Dataframes to use:\n",
    "#austin_holidays_df\n",
    "#austin_avg_df\n",
    "#la_holidays_df\n",
    "#la_avg_df\n",
    "#chicago_holidays_df\n",
    "#chicago_avg_df\n",
    "\n",
    "\n",
    "# chart 1\n",
    "\n",
    "#save chart ('../Images/chart.png')"
   ]
  },
  {
   "cell_type": "code",
   "execution_count": null,
   "metadata": {},
   "outputs": [],
   "source": [
    "# chart 2\n",
    "\n",
    "#save chart ('../Images/chart.png')"
   ]
  },
  {
   "cell_type": "markdown",
   "metadata": {},
   "source": [
    "### Do cities with the least amount of crime experience an increase in crime that is more than noticeable during major holidays?\n",
    "\n",
    "* #### This question is a bit subjective b/c it does not acct for population size. Use the method below to answer question:\n",
    "* #### Find crime per captia: simply divide the total crime by the total population of the city\n",
    "* #### Next, find the city with the lowest per captia crime\n",
    "* #### Finally, for the city with the lowest per captia crime, use data frm question 3 and display the increase/decrease in crime during major holidays vs base (avg annual crime)"
   ]
  },
  {
   "cell_type": "code",
   "execution_count": null,
   "metadata": {},
   "outputs": [],
   "source": [
    "# population #s frm United States Census Bureau: \n",
    "\n",
    "austin_pop = 938200\n",
    "la_pop = 3981000\n",
    "chicago_pop = 2720000 \n",
    "\n",
    "# chart 1\n",
    "\n",
    "#save chart ('../Images/chart.png')"
   ]
  },
  {
   "cell_type": "code",
   "execution_count": null,
   "metadata": {},
   "outputs": [],
   "source": [
    "# chart 2\n",
    "\n",
    "#save chart ('../Images/chart.png')"
   ]
  },
  {
   "cell_type": "markdown",
   "metadata": {},
   "source": [
    "### Bonus Question. This question should be answered LAST after questions 1-4 have been answered with corresponding charts/conclusions. Use google Maps API.\n",
    "* #### Choose one city: Chicago or LA:\n",
    "* #### Map crime location base vs crime location during holiday. Use base location plotting as one symbol, holiday location plotting using a different symbol\n",
    "* #### Include on map, major(predefined) retail location. Use one symbol to represent these retail locations. Plot location of holiday crimes using a different symbol. Does there appear to be any concenstration of crimes near these retail locations.\n",
    "\n",
    "#### Predefined Retail locations:\n",
    "* #### Wal-mart\n",
    "* #### Bestbuy\n",
    "* #### Radio Shack\n",
    "* #### One other major retail store"
   ]
  },
  {
   "cell_type": "code",
   "execution_count": null,
   "metadata": {},
   "outputs": [],
   "source": [
    "# chart 1\n",
    "\n",
    "#save chart ('../Images/chart.png')"
   ]
  },
  {
   "cell_type": "code",
   "execution_count": null,
   "metadata": {},
   "outputs": [],
   "source": [
    "# chart 2\n",
    "\n",
    "#save chart ('../Images/chart.png')"
   ]
  },
  {
   "cell_type": "markdown",
   "metadata": {},
   "source": [
    "### Conclusion\n",
    "* Based on the data in this study, crime does/does not seem to increase during major shopping holidays\n",
    "* Based on the data in this study, crime1,crime2, crime3, seem to be more prevelant during major shopping holidays\n",
    "* Based on the data in this study, cityn, citym, cityk, seem to be more prone to an increase in crime during major shopping holidays\n",
    "* Based on the data in the study, cities with the least amount of crime do/do not seem to experience an increase in crime that's more noticeable during major shopping holidays"
   ]
  },
  {
   "cell_type": "markdown",
   "metadata": {},
   "source": [
    "### A step further\n",
    "* limitations of the study: time constraints, lack of crime expertise, reliability of data\n",
    "* biases of the study\n",
    "* improvements: how study can be improved\n",
    "* Major takeways"
   ]
  },
  {
   "cell_type": "code",
   "execution_count": null,
   "metadata": {},
   "outputs": [],
   "source": []
  }
 ],
 "metadata": {
  "kernelspec": {
   "display_name": "Python 3",
   "language": "python",
   "name": "python3"
  },
  "language_info": {
   "codemirror_mode": {
    "name": "ipython",
    "version": 3
   },
   "file_extension": ".py",
   "mimetype": "text/x-python",
   "name": "python",
   "nbconvert_exporter": "python",
   "pygments_lexer": "ipython3",
   "version": "3.6.5"
  }
 },
 "nbformat": 4,
 "nbformat_minor": 2
}
