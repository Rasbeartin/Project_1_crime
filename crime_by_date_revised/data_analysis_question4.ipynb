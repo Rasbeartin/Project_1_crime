{
 "cells": [
  {
   "cell_type": "markdown",
   "metadata": {},
   "source": [
    "#### Dependencies"
   ]
  },
  {
   "cell_type": "code",
   "execution_count": 1,
   "metadata": {},
   "outputs": [],
   "source": [
    "import pandas as pd\n",
    "import datetime\n",
    "from matplotlib import pyplot as plt\n",
    "from scipy import stats\n",
    "import numpy as np\n",
    "import gmaps\n",
    "import seaborn as sns\n",
    "from config import gkey\n",
    "import matplotlib.pyplot as plt\n",
    "plt.rcdefaults()\n",
    "sns.set()\n",
    "gmaps.configure(api_key=gkey)"
   ]
  },
  {
   "cell_type": "markdown",
   "metadata": {},
   "source": [
    "### Import CVS"
   ]
  },
  {
   "cell_type": "code",
   "execution_count": 5,
   "metadata": {},
   "outputs": [],
   "source": [
    "holiday_data = pd.read_csv(\"retail_holidays.csv\")\n",
    "chi_crime_data = pd.read_csv(\"Chicago_City/Crimes_2016_raw.csv.gz\")\n",
    "chi_crime_sample_data = pd.read_csv(\"Chicago_City/Crimes_2016_raw.csv.gz\")\n",
    "nyc_holiday_data = pd.read_csv(\"NYC/NYPD_Holiday_crimes.csv\")\n",
    "nyc_data = pd.read_csv(\"NYC/NYC_2016_full.csv\")"
   ]
  },
  {
   "cell_type": "markdown",
   "metadata": {},
   "source": [
    "### Do the holidays have an impact on crime location?"
   ]
  },
  {
   "cell_type": "code",
   "execution_count": 6,
   "metadata": {},
   "outputs": [],
   "source": [
    "# Determine if date is a holiday\n",
    "\n",
    "\n",
    "def check_if_holiday(d):\n",
    "    result = False\n",
    "    for h in holiday_df['2016 Year']:\n",
    "        if d == h:\n",
    "            result = True\n",
    "    return result"
   ]
  },
  {
   "cell_type": "markdown",
   "metadata": {},
   "source": [
    "### Create DataFrame"
   ]
  },
  {
   "cell_type": "code",
   "execution_count": 7,
   "metadata": {},
   "outputs": [],
   "source": [
    "chi_crime_df = pd.DataFrame(chi_crime_data)\n",
    "chi_crime_sample_df = pd.DataFrame(chi_crime_sample_data)\n",
    "nyc_holiday_df = pd.DataFrame(nyc_holiday_data)\n",
    "nyc_df = pd.DataFrame(nyc_data)"
   ]
  },
  {
   "cell_type": "markdown",
   "metadata": {},
   "source": [
    "### Create Holidays and Non Holidays DataFrames"
   ]
  },
  {
   "cell_type": "code",
   "execution_count": 8,
   "metadata": {},
   "outputs": [],
   "source": [
    "holiday_df = pd.DataFrame(holiday_data)"
   ]
  },
  {
   "cell_type": "code",
   "execution_count": 9,
   "metadata": {},
   "outputs": [],
   "source": [
    "chi_crime_df['Is_Holiday'] = chi_crime_df['Date'].apply(check_if_holiday)\n",
    "\n",
    "chi_crime_df['Is_Holiday_int'] = chi_crime_df['Date'].apply(\n",
    "    lambda h: int(check_if_holiday(h)))"
   ]
  },
  {
   "cell_type": "code",
   "execution_count": 10,
   "metadata": {},
   "outputs": [],
   "source": [
    "nyc_df['Is_Holiday'] = nyc_df['CMPLNT_FR_DT'].apply(check_if_holiday)\n",
    "\n",
    "nyc_df['Is_Holiday_int'] = nyc_df['CMPLNT_FR_DT'].apply(\n",
    "    lambda h: int(check_if_holiday(h)))"
   ]
  },
  {
   "cell_type": "code",
   "execution_count": 11,
   "metadata": {},
   "outputs": [],
   "source": [
    "chi_holidays_df = chi_crime_df[(chi_crime_df.Is_Holiday_int > 0)]\n",
    "\n",
    "chi_non_holidays_df = chi_crime_df[(chi_crime_df.Is_Holiday_int < 1)]"
   ]
  },
  {
   "cell_type": "code",
   "execution_count": 12,
   "metadata": {},
   "outputs": [],
   "source": [
    "nyc_crime_holidays_df = nyc_df[(nyc_df.Is_Holiday_int > 0)]\n",
    "\n",
    "nyc_crime_non_holidays_df = nyc_df[(nyc_df.Is_Holiday_int < 1)]"
   ]
  },
  {
   "cell_type": "markdown",
   "metadata": {},
   "source": [
    "### Normalize NYC Location Description"
   ]
  },
  {
   "cell_type": "code",
   "execution_count": 13,
   "metadata": {},
   "outputs": [],
   "source": [
    "def check_if_cat(c):\n",
    "    result = False\n",
    "    for l in nyc_crime_holidays_df[\"PREM_TYP_DESC\"]:\n",
    "        if c == l:\n",
    "            result = True\n",
    "    return result"
   ]
  },
  {
   "cell_type": "code",
   "execution_count": 14,
   "metadata": {},
   "outputs": [
    {
     "name": "stderr",
     "output_type": "stream",
     "text": [
      "C:\\tools\\Anaconda3\\envs\\pythondata\\lib\\site-packages\\ipykernel_launcher.py:2: SettingWithCopyWarning: \n",
      "A value is trying to be set on a copy of a slice from a DataFrame.\n",
      "Try using .loc[row_indexer,col_indexer] = value instead\n",
      "\n",
      "See the caveats in the documentation: http://pandas.pydata.org/pandas-docs/stable/indexing.html#indexing-view-versus-copy\n",
      "  \n",
      "C:\\tools\\Anaconda3\\envs\\pythondata\\lib\\site-packages\\ipykernel_launcher.py:5: SettingWithCopyWarning: \n",
      "A value is trying to be set on a copy of a slice from a DataFrame.\n",
      "Try using .loc[row_indexer,col_indexer] = value instead\n",
      "\n",
      "See the caveats in the documentation: http://pandas.pydata.org/pandas-docs/stable/indexing.html#indexing-view-versus-copy\n",
      "  \"\"\"\n"
     ]
    }
   ],
   "source": [
    "nyc_crime_non_holidays_df['Is_Location_Cat'] = nyc_crime_non_holidays_df[\"PREM_TYP_DESC\"].apply(\n",
    "    check_if_cat)\n",
    "\n",
    "nyc_crime_non_holidays_df['Is_Location_Cat_int'] = nyc_crime_non_holidays_df[\"PREM_TYP_DESC\"].apply(\n",
    "    lambda l: int(check_if_cat(l)))\n",
    "\n",
    "nyc_non_holidays_df =  nyc_crime_non_holidays_df[(nyc_crime_non_holidays_df.Is_Location_Cat_int > 0)]"
   ]
  },
  {
   "cell_type": "markdown",
   "metadata": {},
   "source": [
    "### Normalize Chicago Holiday data"
   ]
  },
  {
   "cell_type": "code",
   "execution_count": 15,
   "metadata": {},
   "outputs": [],
   "source": [
    "chi_normal = chi_crime_df"
   ]
  },
  {
   "cell_type": "code",
   "execution_count": 16,
   "metadata": {},
   "outputs": [],
   "source": [
    "is_hol = chi_normal['Is_Holiday'] == True\n",
    "chi_normal_try = chi_normal[is_hol]\n",
    "chi_normal =chi_normal.append([chi_normal_try]*20,ignore_index=True)"
   ]
  },
  {
   "cell_type": "code",
   "execution_count": 17,
   "metadata": {},
   "outputs": [],
   "source": [
    "chi_holidays_normal =  chi_normal[(chi_normal.Is_Holiday_int > 0)]"
   ]
  },
  {
   "cell_type": "code",
   "execution_count": 18,
   "metadata": {},
   "outputs": [],
   "source": [
    "chi_holiday_normal_df = pd.DataFrame(chi_holidays_normal[['Date', 'Primary Type','Latitude','Longitude','Location','Count Count Per Location','Is_Holiday','Is_Holiday_int' ]])"
   ]
  },
  {
   "cell_type": "markdown",
   "metadata": {},
   "source": [
    "### Create Chicago Holiday Heat map"
   ]
  },
  {
   "cell_type": "code",
   "execution_count": 19,
   "metadata": {},
   "outputs": [],
   "source": [
    "holiday_crimes = chi_holiday_normal_df[[\"Latitude\", \"Longitude\"]]"
   ]
  },
  {
   "cell_type": "code",
   "execution_count": 20,
   "metadata": {},
   "outputs": [
    {
     "data": {
      "application/vnd.jupyter.widget-view+json": {
       "model_id": "72c622d3a1134b4596ed5620ee29b1d6",
       "version_major": 2,
       "version_minor": 0
      },
      "text/plain": [
       "Figure(layout=FigureLayout(border='1px solid black', height='420px', padding='3px'))"
      ]
     },
     "metadata": {},
     "output_type": "display_data"
    }
   ],
   "source": [
    "locations = holiday_crimes \n",
    "fig = gmaps.figure(map_type='HYBRID', zoom_level= 12, center = (41.883500187, -87.627876698),\n",
    "        layout={\n",
    "       \n",
    "        'padding': '3px',\n",
    "        'border': '1px solid black'}, tilt=45 )\n",
    "heatmap_layer = gmaps.heatmap_layer(locations)\n",
    "\n",
    "\n",
    "fig.add_layer(heatmap_layer)\n",
    "\n",
    "\n",
    "\n",
    "\n",
    "\n",
    "fig\n",
    "\n"
   ]
  },
  {
   "cell_type": "markdown",
   "metadata": {},
   "source": [
    "### Create Chicago Non Holiday Heat map"
   ]
  },
  {
   "cell_type": "code",
   "execution_count": 21,
   "metadata": {},
   "outputs": [],
   "source": [
    "non_holiday_crimes = chi_non_holidays_df[[\"Latitude\", \"Longitude\"]]"
   ]
  },
  {
   "cell_type": "code",
   "execution_count": 22,
   "metadata": {},
   "outputs": [
    {
     "data": {
      "application/vnd.jupyter.widget-view+json": {
       "model_id": "41042f1122e54887824057d1a6402c03",
       "version_major": 2,
       "version_minor": 0
      },
      "text/plain": [
       "Figure(layout=FigureLayout(border='1px solid black', height='420px', padding='3px'))"
      ]
     },
     "metadata": {},
     "output_type": "display_data"
    }
   ],
   "source": [
    "locations = non_holiday_crimes \n",
    "fig = gmaps.figure(map_type='HYBRID', zoom_level= 12, center = (41.883500187, -87.627876698),\n",
    "        layout={\n",
    "       \n",
    "        'padding': '3px',\n",
    "        'border': '1px solid black'}, tilt=45 )\n",
    "heatmap_layer = gmaps.heatmap_layer(locations)\n",
    "fig.add_layer(heatmap_layer)\n",
    "fig"
   ]
  },
  {
   "cell_type": "markdown",
   "metadata": {},
   "source": [
    "## Sample data set using symbol marker map\n",
    "\n",
    "* An overlapping map showing shopping holiday crime and non-shopping holiday crime will give a better visual for spotting any trends if they exist."
   ]
  },
  {
   "cell_type": "code",
   "execution_count": 23,
   "metadata": {},
   "outputs": [],
   "source": [
    "chi_crime_sample = chi_crime_df.iloc[0:2000, :]"
   ]
  },
  {
   "cell_type": "code",
   "execution_count": 24,
   "metadata": {},
   "outputs": [
    {
     "name": "stderr",
     "output_type": "stream",
     "text": [
      "C:\\tools\\Anaconda3\\envs\\pythondata\\lib\\site-packages\\ipykernel_launcher.py:1: SettingWithCopyWarning: \n",
      "A value is trying to be set on a copy of a slice from a DataFrame.\n",
      "Try using .loc[row_indexer,col_indexer] = value instead\n",
      "\n",
      "See the caveats in the documentation: http://pandas.pydata.org/pandas-docs/stable/indexing.html#indexing-view-versus-copy\n",
      "  \"\"\"Entry point for launching an IPython kernel.\n",
      "C:\\tools\\Anaconda3\\envs\\pythondata\\lib\\site-packages\\ipykernel_launcher.py:4: SettingWithCopyWarning: \n",
      "A value is trying to be set on a copy of a slice from a DataFrame.\n",
      "Try using .loc[row_indexer,col_indexer] = value instead\n",
      "\n",
      "See the caveats in the documentation: http://pandas.pydata.org/pandas-docs/stable/indexing.html#indexing-view-versus-copy\n",
      "  after removing the cwd from sys.path.\n"
     ]
    }
   ],
   "source": [
    "chi_crime_sample['Is_Holiday'] = chi_crime_sample['Date'].apply(check_if_holiday)\n",
    "\n",
    "chi_crime_sample['Is_Holiday_int'] = chi_crime_sample['Date'].apply(\n",
    "    lambda h: int(check_if_holiday(h)))"
   ]
  },
  {
   "cell_type": "markdown",
   "metadata": {},
   "source": [
    "### After creating a sample population, divide the sample population by Holiday and Non-Holiday crime counts"
   ]
  },
  {
   "cell_type": "code",
   "execution_count": 25,
   "metadata": {},
   "outputs": [],
   "source": [
    "chi_holidays_sample = chi_crime_sample[(chi_crime_sample.Is_Holiday_int > 0)]\n",
    "\n",
    "chi_non_holidays_sample = chi_crime_sample[(chi_crime_sample.Is_Holiday_int < 1)]"
   ]
  },
  {
   "cell_type": "code",
   "execution_count": 26,
   "metadata": {},
   "outputs": [
    {
     "data": {
      "application/vnd.jupyter.widget-view+json": {
       "model_id": "87186801c40a4610846b6f2e2ec608ba",
       "version_major": 2,
       "version_minor": 0
      },
      "text/plain": [
       "Figure(layout=FigureLayout(border='1px solid black', height='420px', padding='3px'))"
      ]
     },
     "metadata": {},
     "output_type": "display_data"
    }
   ],
   "source": [
    "chi_holidays_sample = chi_holidays_sample[['Latitude', 'Longitude']]\n",
    "\n",
    "\n",
    "chi_non_holidays_sample = chi_non_holidays_sample[['Latitude', 'Longitude']]\n",
    "\n",
    "\n",
    "\n",
    "\n",
    "chi_holidays_sample_layer = gmaps.symbol_layer(\n",
    "    chi_holidays_sample, fill_color='rgba(0, 50, 150, 0.3)',\n",
    "    stroke_color='rgba(0, 50, 150, 0.5)', scale=3\n",
    ")\n",
    "\n",
    "chi_non_holidays_sample_layer = gmaps.symbol_layer(\n",
    "    chi_non_holidays_sample, fill_color='rgba(200, 0, 0, 0.3)',\n",
    "    stroke_color='rgba(200, 0, 0, 0.5)', scale=3\n",
    ")\n",
    "\n",
    "fig = gmaps.figure(map_type='SATELLITE', zoom_level= 12, center = (41.883500187, -87.627876698),\n",
    "        layout={\n",
    "       \n",
    "        'padding': '3px',\n",
    "        'border': '1px solid black'}, tilt=45 )\n",
    "fig.add_layer(chi_holidays_sample_layer)\n",
    "fig.add_layer(chi_non_holidays_sample_layer)\n",
    "fig"
   ]
  },
  {
   "cell_type": "markdown",
   "metadata": {},
   "source": [
    "### Chicago Conclusions"
   ]
  },
  {
   "cell_type": "markdown",
   "metadata": {},
   "source": [
    "* The location and concentration of crime during major shopping holidays looks similar to the crime location and concentration during non-major shopping holidays. Therefore, it is likely that other demographics creating noise in the dataset are better explanatory factors for crime location.\n",
    "* We did not observe a holiday impact on crime location for the city of Chicago. It is likely that other demographic factors are creating noise in the data set."
   ]
  },
  {
   "cell_type": "markdown",
   "metadata": {},
   "source": [
    "### Do the holidays have an impact on New Yourk crime location?"
   ]
  },
  {
   "cell_type": "code",
   "execution_count": 27,
   "metadata": {},
   "outputs": [
    {
     "data": {
      "image/png": "[encoded data removed]",
      "text/plain": [
       "<Figure size 576x360 with 1 Axes>"
      ]
     },
     "metadata": {
      "needs_background": "light"
     },
     "output_type": "display_data"
    }
   ],
   "source": [
    "fig = plt.figure(figsize = (8,5))\n",
    "\n",
    "\n",
    "\n",
    "holiday_crimes =nyc_non_holidays_df[[\"Latitude\", \"Longitude\"]]\n",
    "\n",
    "\n",
    "objects = nyc_non_holidays_df[\"PREM_TYP_DESC\"].unique()\n",
    "y_pos = np.arange(len(objects))\n",
    "performance = nyc_non_holidays_df[\"PREM_TYP_DESC\"].value_counts()\n",
    " \n",
    "plt.barh(y_pos, performance, align='center', alpha=0.5)\n",
    "plt.yticks(y_pos, objects)\n",
    "plt.xlabel('Crimes')\n",
    "plt.title('New York City Crimes Location Description (Non Holidays)')\n",
    "plt.grid(True)\n",
    "\n",
    "plt.text(5,-3,\"Figure 4.1\", fontsize=13)\n",
    "\n",
    "\n",
    "plt.tight_layout()\n",
    "\n",
    "plt.show()\n",
    "\n",
    "fig.savefig(\"Images/NewYorkNonHolidays.png\")"
   ]
  },
  {
   "cell_type": "code",
   "execution_count": 28,
   "metadata": {},
   "outputs": [
    {
     "data": {
      "image/png": "[encoded data removed]",
      "text/plain": [
       "<Figure size 576x360 with 1 Axes>"
      ]
     },
     "metadata": {
      "needs_background": "light"
     },
     "output_type": "display_data"
    }
   ],
   "source": [
    "fig = plt.figure(figsize = (8,5))\n",
    "\n",
    "objects = nyc_holiday_data[\"PREM_TYP_DESC\"].unique()\n",
    "y_pos = np.arange(len(objects))\n",
    "performance = nyc_holiday_data[\"PREM_TYP_DESC\"].value_counts()\n",
    " \n",
    "plt.barh(y_pos, performance, align='center', alpha=0.5, color=\"red\")\n",
    "plt.yticks(y_pos, objects)\n",
    "\n",
    "\n",
    "plt.xlabel('Crime Count')\n",
    "plt.title('New York City Crimes by Location Description (Holidays)')\n",
    "plt.text(5,-3,\"Figure 4.2\", fontsize=13)\n",
    "\n",
    "plt.grid(True)\n",
    "\n",
    "plt.tight_layout()\n",
    "\n",
    " \n",
    "plt.show()\n",
    "\n",
    "\n",
    "\n",
    "fig.savefig(\"Images/NewYorkHolidays.png\")"
   ]
  },
  {
   "cell_type": "markdown",
   "metadata": {},
   "source": [
    "* By observing the Crime by Location bar charts, we can conclude that most of the crimes occurred at a residence during both major shopping holidays and non-major shopping holidays. We do not observe a holiday impact on crime location. "
   ]
  },
  {
   "cell_type": "markdown",
   "metadata": {},
   "source": [
    "### Reporting Bias"
   ]
  },
  {
   "cell_type": "markdown",
   "metadata": {},
   "source": [
    "* Zoomed in image of the NYC heat maps shows evidence of reporting bias. Note the NYC Police Dept is location with high crime count. This is likely because the Police departments uses these coordinates when the accurate address is unavailable"
   ]
  },
  {
   "cell_type": "code",
   "execution_count": 29,
   "metadata": {},
   "outputs": [
    {
     "data": {
      "application/vnd.jupyter.widget-view+json": {
       "model_id": "53db9da0da4e4f6082a16fe1974abd49",
       "version_major": 2,
       "version_minor": 0
      },
      "text/plain": [
       "Figure(layout=FigureLayout(border='1px solid black', height='420px', padding='3px'))"
      ]
     },
     "metadata": {},
     "output_type": "display_data"
    }
   ],
   "source": [
    "locations = nyc_data[[\"Latitude\", \"Longitude\"]]\n",
    "fig = gmaps.figure(map_type='SATELLITE',zoom_level = 12, center=(40.8, -73.9),\n",
    "        layout={\n",
    "       \n",
    "        'padding': '3px',\n",
    "        'border': '1px solid black'}, tilt=45 )\n",
    "heatmap_layer = gmaps.heatmap_layer(locations)\n",
    "fig.add_layer(heatmap_layer)\n",
    "fig"
   ]
  },
  {
   "cell_type": "markdown",
   "metadata": {},
   "source": [
    "### NYC Conclusion"
   ]
  },
  {
   "cell_type": "markdown",
   "metadata": {},
   "source": [
    "* By observing the Crime by Location bar charts, we can conclude that most of the crimes occurred at a residence during both major shopping holidays and non-major shopping holidays. We do not observe a holiday impact on crime location. \n",
    "\n",
    "* Neither Chicago nor New York City support that major shopping holidays have an impact on crime location. The location and concentration of crime follow the same trend during both shopping holidays and non shopping holidays for both cities. "
   ]
  },
  {
   "cell_type": "code",
   "execution_count": null,
   "metadata": {},
   "outputs": [],
   "source": []
  }
 ],
 "metadata": {
  "kernelspec": {
   "display_name": "Python 3",
   "language": "python",
   "name": "python3"
  },
  "language_info": {
   "codemirror_mode": {
    "name": "ipython",
    "version": 3
   },
   "file_extension": ".py",
   "mimetype": "text/x-python",
   "name": "python",
   "nbconvert_exporter": "python",
   "pygments_lexer": "ipython3",
   "version": "3.6.6"
  }
 },
 "nbformat": 4,
 "nbformat_minor": 2
}
